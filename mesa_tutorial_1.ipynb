{
  "nbformat": 4,
  "nbformat_minor": 0,
  "metadata": {
    "colab": {
      "name": "mesa_tutorial_1.ipynb",
      "provenance": [],
      "collapsed_sections": [],
      "include_colab_link": true
    },
    "kernelspec": {
      "name": "python3",
      "display_name": "Python 3"
    },
    "widgets": {
      "application/vnd.jupyter.widget-state+json": {
        "7911fbe4865449cfb2f4fb622a342885": {
          "model_module": "@jupyter-widgets/controls",
          "model_name": "VBoxModel",
          "state": {
            "_view_name": "VBoxView",
            "_dom_classes": [
              "widget-interact"
            ],
            "_model_name": "VBoxModel",
            "_view_module": "@jupyter-widgets/controls",
            "_model_module_version": "1.5.0",
            "_view_count": null,
            "_view_module_version": "1.5.0",
            "box_style": "",
            "layout": "IPY_MODEL_1321ccb4fbfc4e9ab0cc434452eb7a96",
            "_model_module": "@jupyter-widgets/controls",
            "children": [
              "IPY_MODEL_5e6e0647dd7b462fbe2a642115352772",
              "IPY_MODEL_a7cb887e7c6c4642b83cf77dffe04fd8",
              "IPY_MODEL_ec166d97b1f544f1b5059ea6f9b3d944"
            ]
          }
        },
        "1321ccb4fbfc4e9ab0cc434452eb7a96": {
          "model_module": "@jupyter-widgets/base",
          "model_name": "LayoutModel",
          "state": {
            "_view_name": "LayoutView",
            "grid_template_rows": null,
            "right": null,
            "justify_content": null,
            "_view_module": "@jupyter-widgets/base",
            "overflow": null,
            "_model_module_version": "1.2.0",
            "_view_count": null,
            "flex_flow": null,
            "width": null,
            "min_width": null,
            "border": null,
            "align_items": null,
            "bottom": null,
            "_model_module": "@jupyter-widgets/base",
            "top": null,
            "grid_column": null,
            "overflow_y": null,
            "overflow_x": null,
            "grid_auto_flow": null,
            "grid_area": null,
            "grid_template_columns": null,
            "flex": null,
            "_model_name": "LayoutModel",
            "justify_items": null,
            "grid_row": null,
            "max_height": null,
            "align_content": null,
            "visibility": null,
            "align_self": null,
            "height": null,
            "min_height": null,
            "padding": null,
            "grid_auto_rows": null,
            "grid_gap": null,
            "max_width": null,
            "order": null,
            "_view_module_version": "1.2.0",
            "grid_template_areas": null,
            "object_position": null,
            "object_fit": null,
            "grid_auto_columns": null,
            "margin": null,
            "display": null,
            "left": null
          }
        },
        "5e6e0647dd7b462fbe2a642115352772": {
          "model_module": "@jupyter-widgets/controls",
          "model_name": "IntSliderModel",
          "state": {
            "_view_name": "IntSliderView",
            "style": "IPY_MODEL_31a592941fd34caca7fb9f55b75d2721",
            "_dom_classes": [],
            "description": "pop",
            "step": 50,
            "_model_name": "IntSliderModel",
            "orientation": "horizontal",
            "max": 1000,
            "_view_module": "@jupyter-widgets/controls",
            "_model_module_version": "1.5.0",
            "value": 500,
            "_view_count": null,
            "disabled": false,
            "_view_module_version": "1.5.0",
            "min": 0,
            "continuous_update": true,
            "readout_format": "d",
            "description_tooltip": null,
            "readout": true,
            "_model_module": "@jupyter-widgets/controls",
            "layout": "IPY_MODEL_7345676b602343699c9b2231fc095c21"
          }
        },
        "a7cb887e7c6c4642b83cf77dffe04fd8": {
          "model_module": "@jupyter-widgets/controls",
          "model_name": "IntSliderModel",
          "state": {
            "_view_name": "IntSliderView",
            "style": "IPY_MODEL_edce2316725943a3aaea0ca07c49c3b6",
            "_dom_classes": [],
            "description": "steps",
            "step": 50,
            "_model_name": "IntSliderModel",
            "orientation": "horizontal",
            "max": 1000,
            "_view_module": "@jupyter-widgets/controls",
            "_model_module_version": "1.5.0",
            "value": 500,
            "_view_count": null,
            "disabled": false,
            "_view_module_version": "1.5.0",
            "min": 0,
            "continuous_update": true,
            "readout_format": "d",
            "description_tooltip": null,
            "readout": true,
            "_model_module": "@jupyter-widgets/controls",
            "layout": "IPY_MODEL_fcc4f24ed5ec4077b33aa8a30f63acb5"
          }
        },
        "ec166d97b1f544f1b5059ea6f9b3d944": {
          "model_module": "@jupyter-widgets/output",
          "model_name": "OutputModel",
          "state": {
            "_view_name": "OutputView",
            "msg_id": "",
            "_dom_classes": [],
            "_model_name": "OutputModel",
            "outputs": [
              {
                "output_type": "display_data",
                "metadata": {
                  "tags": []
                },
                "image/png": "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\n",
                "text/plain": "<Figure size 360x360 with 1 Axes>"
              }
            ],
            "_view_module": "@jupyter-widgets/output",
            "_model_module_version": "1.0.0",
            "_view_count": null,
            "_view_module_version": "1.0.0",
            "layout": "IPY_MODEL_7f919b70371246999597a24c4288ebcc",
            "_model_module": "@jupyter-widgets/output"
          }
        },
        "31a592941fd34caca7fb9f55b75d2721": {
          "model_module": "@jupyter-widgets/controls",
          "model_name": "SliderStyleModel",
          "state": {
            "_view_name": "StyleView",
            "handle_color": null,
            "_model_name": "SliderStyleModel",
            "description_width": "",
            "_view_module": "@jupyter-widgets/base",
            "_model_module_version": "1.5.0",
            "_view_count": null,
            "_view_module_version": "1.2.0",
            "_model_module": "@jupyter-widgets/controls"
          }
        },
        "7345676b602343699c9b2231fc095c21": {
          "model_module": "@jupyter-widgets/base",
          "model_name": "LayoutModel",
          "state": {
            "_view_name": "LayoutView",
            "grid_template_rows": null,
            "right": null,
            "justify_content": null,
            "_view_module": "@jupyter-widgets/base",
            "overflow": null,
            "_model_module_version": "1.2.0",
            "_view_count": null,
            "flex_flow": null,
            "width": null,
            "min_width": null,
            "border": null,
            "align_items": null,
            "bottom": null,
            "_model_module": "@jupyter-widgets/base",
            "top": null,
            "grid_column": null,
            "overflow_y": null,
            "overflow_x": null,
            "grid_auto_flow": null,
            "grid_area": null,
            "grid_template_columns": null,
            "flex": null,
            "_model_name": "LayoutModel",
            "justify_items": null,
            "grid_row": null,
            "max_height": null,
            "align_content": null,
            "visibility": null,
            "align_self": null,
            "height": null,
            "min_height": null,
            "padding": null,
            "grid_auto_rows": null,
            "grid_gap": null,
            "max_width": null,
            "order": null,
            "_view_module_version": "1.2.0",
            "grid_template_areas": null,
            "object_position": null,
            "object_fit": null,
            "grid_auto_columns": null,
            "margin": null,
            "display": null,
            "left": null
          }
        },
        "edce2316725943a3aaea0ca07c49c3b6": {
          "model_module": "@jupyter-widgets/controls",
          "model_name": "SliderStyleModel",
          "state": {
            "_view_name": "StyleView",
            "handle_color": null,
            "_model_name": "SliderStyleModel",
            "description_width": "",
            "_view_module": "@jupyter-widgets/base",
            "_model_module_version": "1.5.0",
            "_view_count": null,
            "_view_module_version": "1.2.0",
            "_model_module": "@jupyter-widgets/controls"
          }
        },
        "fcc4f24ed5ec4077b33aa8a30f63acb5": {
          "model_module": "@jupyter-widgets/base",
          "model_name": "LayoutModel",
          "state": {
            "_view_name": "LayoutView",
            "grid_template_rows": null,
            "right": null,
            "justify_content": null,
            "_view_module": "@jupyter-widgets/base",
            "overflow": null,
            "_model_module_version": "1.2.0",
            "_view_count": null,
            "flex_flow": null,
            "width": null,
            "min_width": null,
            "border": null,
            "align_items": null,
            "bottom": null,
            "_model_module": "@jupyter-widgets/base",
            "top": null,
            "grid_column": null,
            "overflow_y": null,
            "overflow_x": null,
            "grid_auto_flow": null,
            "grid_area": null,
            "grid_template_columns": null,
            "flex": null,
            "_model_name": "LayoutModel",
            "justify_items": null,
            "grid_row": null,
            "max_height": null,
            "align_content": null,
            "visibility": null,
            "align_self": null,
            "height": null,
            "min_height": null,
            "padding": null,
            "grid_auto_rows": null,
            "grid_gap": null,
            "max_width": null,
            "order": null,
            "_view_module_version": "1.2.0",
            "grid_template_areas": null,
            "object_position": null,
            "object_fit": null,
            "grid_auto_columns": null,
            "margin": null,
            "display": null,
            "left": null
          }
        },
        "7f919b70371246999597a24c4288ebcc": {
          "model_module": "@jupyter-widgets/base",
          "model_name": "LayoutModel",
          "state": {
            "_view_name": "LayoutView",
            "grid_template_rows": null,
            "right": null,
            "justify_content": null,
            "_view_module": "@jupyter-widgets/base",
            "overflow": null,
            "_model_module_version": "1.2.0",
            "_view_count": null,
            "flex_flow": null,
            "width": null,
            "min_width": null,
            "border": null,
            "align_items": null,
            "bottom": null,
            "_model_module": "@jupyter-widgets/base",
            "top": null,
            "grid_column": null,
            "overflow_y": null,
            "overflow_x": null,
            "grid_auto_flow": null,
            "grid_area": null,
            "grid_template_columns": null,
            "flex": null,
            "_model_name": "LayoutModel",
            "justify_items": null,
            "grid_row": null,
            "max_height": null,
            "align_content": null,
            "visibility": null,
            "align_self": null,
            "height": null,
            "min_height": null,
            "padding": null,
            "grid_auto_rows": null,
            "grid_gap": null,
            "max_width": null,
            "order": null,
            "_view_module_version": "1.2.0",
            "grid_template_areas": null,
            "object_position": null,
            "object_fit": null,
            "grid_auto_columns": null,
            "margin": null,
            "display": null,
            "left": null
          }
        }
      }
    }
  },
  "cells": [
    {
      "cell_type": "markdown",
      "metadata": {
        "id": "view-in-github",
        "colab_type": "text"
      },
      "source": [
        "<a href=\"https://colab.research.google.com/github/danadler-dev/mesa_examples/blob/main/mesa_tutorial_1.ipynb\" target=\"_parent\"><img src=\"https://colab.research.google.com/assets/colab-badge.svg\" alt=\"Open In Colab\"/></a>"
      ]
    },
    {
      "cell_type": "markdown",
      "metadata": {
        "id": "_Sny8gHl1IN8"
      },
      "source": [
        "Wealth Distribution Example from [Mesa Tutorial](https://mesa.readthedocs.io/en/stable/tutorials/intro_tutorial.html)"
      ]
    },
    {
      "cell_type": "code",
      "metadata": {
        "id": "vXxUef0MoUFP"
      },
      "source": [
        "!pip install mesa"
      ],
      "execution_count": null,
      "outputs": []
    },
    {
      "cell_type": "code",
      "metadata": {
        "id": "NxcwiEwPogGD"
      },
      "source": [
        "from mesa import Agent, Model\n",
        "from mesa.time import RandomActivation\n",
        "import matplotlib.pyplot as plt\n",
        "import seaborn as sns\n",
        "from ipywidgets import interact, interact_manual\n",
        "sns.set()\n",
        "\n",
        "\n",
        "class MoneyAgent(Agent):\n",
        "    \"\"\" An agent with fixed initial wealth.\"\"\"\n",
        "    def __init__(self, unique_id, model):\n",
        "        super().__init__(unique_id, model)\n",
        "        self.wealth = 1\n",
        "\n",
        "    def step(self):\n",
        "        if self.wealth == 0:\n",
        "            return\n",
        "        other_agent = self.random.choice(self.model.schedule.agents)\n",
        "        other_agent.wealth += 1\n",
        "        self.wealth -= 1\n",
        "\n",
        "class MoneyModel(Model):\n",
        "    \"\"\"A model with some number of agents.\"\"\"\n",
        "    def __init__(self, N):\n",
        "        self.num_agents = N\n",
        "        self.schedule = RandomActivation(self)\n",
        "        # Create agents\n",
        "        for i in range(self.num_agents):\n",
        "            a = MoneyAgent(i, self)\n",
        "            self.schedule.add(a)\n",
        "\n",
        "    def step(self):\n",
        "        '''Advance the model by one step.'''\n",
        "        self.schedule.step()\n"
      ],
      "execution_count": 2,
      "outputs": []
    },
    {
      "cell_type": "code",
      "metadata": {
        "id": "8zVhHhbE18j_",
        "colab": {
          "base_uri": "https://localhost:8080/",
          "height": 429,
          "referenced_widgets": [
            "7911fbe4865449cfb2f4fb622a342885",
            "1321ccb4fbfc4e9ab0cc434452eb7a96",
            "5e6e0647dd7b462fbe2a642115352772",
            "a7cb887e7c6c4642b83cf77dffe04fd8",
            "ec166d97b1f544f1b5059ea6f9b3d944",
            "31a592941fd34caca7fb9f55b75d2721",
            "7345676b602343699c9b2231fc095c21",
            "edce2316725943a3aaea0ca07c49c3b6",
            "fcc4f24ed5ec4077b33aa8a30f63acb5",
            "7f919b70371246999597a24c4288ebcc"
          ]
        },
        "outputId": "cdcdf833-7934-4800-c8a4-a3830a45e0a5"
      },
      "source": [
        "@interact(pop=(0, 1000, 50), steps=(0, 1000, 50))\n",
        "def run(pop=500, steps=500):\n",
        "  model = MoneyModel(pop)\n",
        "  for i in range(steps):\n",
        "      model.step()\n",
        "  agent_wealth = [a.wealth for a in model.schedule.agents]\n",
        "  sns.displot(agent_wealth, kde=True)"
      ],
      "execution_count": 3,
      "outputs": [
        {
          "output_type": "display_data",
          "data": {
            "application/vnd.jupyter.widget-view+json": {
              "model_id": "7911fbe4865449cfb2f4fb622a342885",
              "version_minor": 0,
              "version_major": 2
            },
            "text/plain": [
              "interactive(children=(IntSlider(value=500, description='pop', max=1000, step=50), IntSlider(value=500, descrip…"
            ]
          },
          "metadata": {
            "tags": []
          }
        }
      ]
    },
    {
      "cell_type": "code",
      "metadata": {
        "id": "3dtinfTLDIyM"
      },
      "source": [
        ""
      ],
      "execution_count": 3,
      "outputs": []
    }
  ]
}