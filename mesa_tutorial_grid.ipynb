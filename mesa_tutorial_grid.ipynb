{
  "nbformat": 4,
  "nbformat_minor": 0,
  "metadata": {
    "colab": {
      "name": "mesa_tutorial_grid.ipynb",
      "provenance": [],
      "collapsed_sections": [],
      "include_colab_link": true
    },
    "kernelspec": {
      "name": "python3",
      "display_name": "Python 3"
    },
    "widgets": {
      "application/vnd.jupyter.widget-state+json": {
        "fac4f45d454d481493a415a6f135591a": {
          "model_module": "@jupyter-widgets/controls",
          "model_name": "VBoxModel",
          "state": {
            "_view_name": "VBoxView",
            "_dom_classes": [
              "widget-interact"
            ],
            "_model_name": "VBoxModel",
            "_view_module": "@jupyter-widgets/controls",
            "_model_module_version": "1.5.0",
            "_view_count": null,
            "_view_module_version": "1.5.0",
            "box_style": "",
            "layout": "IPY_MODEL_ca9f50011ccb49e795c9340514b252dd",
            "_model_module": "@jupyter-widgets/controls",
            "children": [
              "IPY_MODEL_cde7506a27894288a2e84a5ba23cd74f",
              "IPY_MODEL_6d5a928de46f4ca7adf3ad22aa61ce91",
              "IPY_MODEL_396f1f883298490582d41c810482ad2c",
              "IPY_MODEL_f22d614723ad4ad78880ce060a21416e"
            ]
          }
        },
        "ca9f50011ccb49e795c9340514b252dd": {
          "model_module": "@jupyter-widgets/base",
          "model_name": "LayoutModel",
          "state": {
            "_view_name": "LayoutView",
            "grid_template_rows": null,
            "right": null,
            "justify_content": null,
            "_view_module": "@jupyter-widgets/base",
            "overflow": null,
            "_model_module_version": "1.2.0",
            "_view_count": null,
            "flex_flow": null,
            "width": null,
            "min_width": null,
            "border": null,
            "align_items": null,
            "bottom": null,
            "_model_module": "@jupyter-widgets/base",
            "top": null,
            "grid_column": null,
            "overflow_y": null,
            "overflow_x": null,
            "grid_auto_flow": null,
            "grid_area": null,
            "grid_template_columns": null,
            "flex": null,
            "_model_name": "LayoutModel",
            "justify_items": null,
            "grid_row": null,
            "max_height": null,
            "align_content": null,
            "visibility": null,
            "align_self": null,
            "height": null,
            "min_height": null,
            "padding": null,
            "grid_auto_rows": null,
            "grid_gap": null,
            "max_width": null,
            "order": null,
            "_view_module_version": "1.2.0",
            "grid_template_areas": null,
            "object_position": null,
            "object_fit": null,
            "grid_auto_columns": null,
            "margin": null,
            "display": null,
            "left": null
          }
        },
        "cde7506a27894288a2e84a5ba23cd74f": {
          "model_module": "@jupyter-widgets/controls",
          "model_name": "IntSliderModel",
          "state": {
            "_view_name": "IntSliderView",
            "style": "IPY_MODEL_30b113862f3548c8bef12114e5fa93b9",
            "_dom_classes": [],
            "description": "X",
            "step": 50,
            "_model_name": "IntSliderModel",
            "orientation": "horizontal",
            "max": 500,
            "_view_module": "@jupyter-widgets/controls",
            "_model_module_version": "1.5.0",
            "value": 200,
            "_view_count": null,
            "disabled": false,
            "_view_module_version": "1.5.0",
            "min": 0,
            "continuous_update": true,
            "readout_format": "d",
            "description_tooltip": null,
            "readout": true,
            "_model_module": "@jupyter-widgets/controls",
            "layout": "IPY_MODEL_13155ebbf708406198e7adfa8dde2150"
          }
        },
        "6d5a928de46f4ca7adf3ad22aa61ce91": {
          "model_module": "@jupyter-widgets/controls",
          "model_name": "IntSliderModel",
          "state": {
            "_view_name": "IntSliderView",
            "style": "IPY_MODEL_2267bb869c67446eb4614854b1ea83a9",
            "_dom_classes": [],
            "description": "Y",
            "step": 50,
            "_model_name": "IntSliderModel",
            "orientation": "horizontal",
            "max": 500,
            "_view_module": "@jupyter-widgets/controls",
            "_model_module_version": "1.5.0",
            "value": 200,
            "_view_count": null,
            "disabled": false,
            "_view_module_version": "1.5.0",
            "min": 0,
            "continuous_update": true,
            "readout_format": "d",
            "description_tooltip": null,
            "readout": true,
            "_model_module": "@jupyter-widgets/controls",
            "layout": "IPY_MODEL_7fd6536171ed4c50b9d8cdf1787643e7"
          }
        },
        "396f1f883298490582d41c810482ad2c": {
          "model_module": "@jupyter-widgets/controls",
          "model_name": "IntSliderModel",
          "state": {
            "_view_name": "IntSliderView",
            "style": "IPY_MODEL_fd6e1557aeb64b5d81b8691266d5e470",
            "_dom_classes": [],
            "description": "steps",
            "step": 5,
            "_model_name": "IntSliderModel",
            "orientation": "horizontal",
            "max": 100,
            "_view_module": "@jupyter-widgets/controls",
            "_model_module_version": "1.5.0",
            "value": 10,
            "_view_count": null,
            "disabled": false,
            "_view_module_version": "1.5.0",
            "min": 0,
            "continuous_update": true,
            "readout_format": "d",
            "description_tooltip": null,
            "readout": true,
            "_model_module": "@jupyter-widgets/controls",
            "layout": "IPY_MODEL_13c6b035bc1f4af4a9c4e843054e3c41"
          }
        },
        "f22d614723ad4ad78880ce060a21416e": {
          "model_module": "@jupyter-widgets/output",
          "model_name": "OutputModel",
          "state": {
            "_view_name": "OutputView",
            "msg_id": "",
            "_dom_classes": [],
            "_model_name": "OutputModel",
            "outputs": [
              {
                "output_type": "display_data",
                "metadata": {
                  "tags": [],
                  "needs_background": "light"
                },
                "image/png": "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\n",
                "text/plain": "<Figure size 288x288 with 1 Axes>"
              }
            ],
            "_view_module": "@jupyter-widgets/output",
            "_model_module_version": "1.0.0",
            "_view_count": null,
            "_view_module_version": "1.0.0",
            "layout": "IPY_MODEL_7122ce784c834102b255012c4443dbc2",
            "_model_module": "@jupyter-widgets/output"
          }
        },
        "30b113862f3548c8bef12114e5fa93b9": {
          "model_module": "@jupyter-widgets/controls",
          "model_name": "SliderStyleModel",
          "state": {
            "_view_name": "StyleView",
            "handle_color": null,
            "_model_name": "SliderStyleModel",
            "description_width": "",
            "_view_module": "@jupyter-widgets/base",
            "_model_module_version": "1.5.0",
            "_view_count": null,
            "_view_module_version": "1.2.0",
            "_model_module": "@jupyter-widgets/controls"
          }
        },
        "13155ebbf708406198e7adfa8dde2150": {
          "model_module": "@jupyter-widgets/base",
          "model_name": "LayoutModel",
          "state": {
            "_view_name": "LayoutView",
            "grid_template_rows": null,
            "right": null,
            "justify_content": null,
            "_view_module": "@jupyter-widgets/base",
            "overflow": null,
            "_model_module_version": "1.2.0",
            "_view_count": null,
            "flex_flow": null,
            "width": null,
            "min_width": null,
            "border": null,
            "align_items": null,
            "bottom": null,
            "_model_module": "@jupyter-widgets/base",
            "top": null,
            "grid_column": null,
            "overflow_y": null,
            "overflow_x": null,
            "grid_auto_flow": null,
            "grid_area": null,
            "grid_template_columns": null,
            "flex": null,
            "_model_name": "LayoutModel",
            "justify_items": null,
            "grid_row": null,
            "max_height": null,
            "align_content": null,
            "visibility": null,
            "align_self": null,
            "height": null,
            "min_height": null,
            "padding": null,
            "grid_auto_rows": null,
            "grid_gap": null,
            "max_width": null,
            "order": null,
            "_view_module_version": "1.2.0",
            "grid_template_areas": null,
            "object_position": null,
            "object_fit": null,
            "grid_auto_columns": null,
            "margin": null,
            "display": null,
            "left": null
          }
        },
        "2267bb869c67446eb4614854b1ea83a9": {
          "model_module": "@jupyter-widgets/controls",
          "model_name": "SliderStyleModel",
          "state": {
            "_view_name": "StyleView",
            "handle_color": null,
            "_model_name": "SliderStyleModel",
            "description_width": "",
            "_view_module": "@jupyter-widgets/base",
            "_model_module_version": "1.5.0",
            "_view_count": null,
            "_view_module_version": "1.2.0",
            "_model_module": "@jupyter-widgets/controls"
          }
        },
        "7fd6536171ed4c50b9d8cdf1787643e7": {
          "model_module": "@jupyter-widgets/base",
          "model_name": "LayoutModel",
          "state": {
            "_view_name": "LayoutView",
            "grid_template_rows": null,
            "right": null,
            "justify_content": null,
            "_view_module": "@jupyter-widgets/base",
            "overflow": null,
            "_model_module_version": "1.2.0",
            "_view_count": null,
            "flex_flow": null,
            "width": null,
            "min_width": null,
            "border": null,
            "align_items": null,
            "bottom": null,
            "_model_module": "@jupyter-widgets/base",
            "top": null,
            "grid_column": null,
            "overflow_y": null,
            "overflow_x": null,
            "grid_auto_flow": null,
            "grid_area": null,
            "grid_template_columns": null,
            "flex": null,
            "_model_name": "LayoutModel",
            "justify_items": null,
            "grid_row": null,
            "max_height": null,
            "align_content": null,
            "visibility": null,
            "align_self": null,
            "height": null,
            "min_height": null,
            "padding": null,
            "grid_auto_rows": null,
            "grid_gap": null,
            "max_width": null,
            "order": null,
            "_view_module_version": "1.2.0",
            "grid_template_areas": null,
            "object_position": null,
            "object_fit": null,
            "grid_auto_columns": null,
            "margin": null,
            "display": null,
            "left": null
          }
        },
        "fd6e1557aeb64b5d81b8691266d5e470": {
          "model_module": "@jupyter-widgets/controls",
          "model_name": "SliderStyleModel",
          "state": {
            "_view_name": "StyleView",
            "handle_color": null,
            "_model_name": "SliderStyleModel",
            "description_width": "",
            "_view_module": "@jupyter-widgets/base",
            "_model_module_version": "1.5.0",
            "_view_count": null,
            "_view_module_version": "1.2.0",
            "_model_module": "@jupyter-widgets/controls"
          }
        },
        "13c6b035bc1f4af4a9c4e843054e3c41": {
          "model_module": "@jupyter-widgets/base",
          "model_name": "LayoutModel",
          "state": {
            "_view_name": "LayoutView",
            "grid_template_rows": null,
            "right": null,
            "justify_content": null,
            "_view_module": "@jupyter-widgets/base",
            "overflow": null,
            "_model_module_version": "1.2.0",
            "_view_count": null,
            "flex_flow": null,
            "width": null,
            "min_width": null,
            "border": null,
            "align_items": null,
            "bottom": null,
            "_model_module": "@jupyter-widgets/base",
            "top": null,
            "grid_column": null,
            "overflow_y": null,
            "overflow_x": null,
            "grid_auto_flow": null,
            "grid_area": null,
            "grid_template_columns": null,
            "flex": null,
            "_model_name": "LayoutModel",
            "justify_items": null,
            "grid_row": null,
            "max_height": null,
            "align_content": null,
            "visibility": null,
            "align_self": null,
            "height": null,
            "min_height": null,
            "padding": null,
            "grid_auto_rows": null,
            "grid_gap": null,
            "max_width": null,
            "order": null,
            "_view_module_version": "1.2.0",
            "grid_template_areas": null,
            "object_position": null,
            "object_fit": null,
            "grid_auto_columns": null,
            "margin": null,
            "display": null,
            "left": null
          }
        },
        "7122ce784c834102b255012c4443dbc2": {
          "model_module": "@jupyter-widgets/base",
          "model_name": "LayoutModel",
          "state": {
            "_view_name": "LayoutView",
            "grid_template_rows": null,
            "right": null,
            "justify_content": null,
            "_view_module": "@jupyter-widgets/base",
            "overflow": null,
            "_model_module_version": "1.2.0",
            "_view_count": null,
            "flex_flow": null,
            "width": null,
            "min_width": null,
            "border": null,
            "align_items": null,
            "bottom": null,
            "_model_module": "@jupyter-widgets/base",
            "top": null,
            "grid_column": null,
            "overflow_y": null,
            "overflow_x": null,
            "grid_auto_flow": null,
            "grid_area": null,
            "grid_template_columns": null,
            "flex": null,
            "_model_name": "LayoutModel",
            "justify_items": null,
            "grid_row": null,
            "max_height": null,
            "align_content": null,
            "visibility": null,
            "align_self": null,
            "height": null,
            "min_height": null,
            "padding": null,
            "grid_auto_rows": null,
            "grid_gap": null,
            "max_width": null,
            "order": null,
            "_view_module_version": "1.2.0",
            "grid_template_areas": null,
            "object_position": null,
            "object_fit": null,
            "grid_auto_columns": null,
            "margin": null,
            "display": null,
            "left": null
          }
        },
        "05e76cc4dfb846ec85f3a9da06e0ca56": {
          "model_module": "@jupyter-widgets/controls",
          "model_name": "VBoxModel",
          "state": {
            "_view_name": "VBoxView",
            "_dom_classes": [
              "widget-interact"
            ],
            "_model_name": "VBoxModel",
            "_view_module": "@jupyter-widgets/controls",
            "_model_module_version": "1.5.0",
            "_view_count": null,
            "_view_module_version": "1.5.0",
            "box_style": "",
            "layout": "IPY_MODEL_35593c7c241547b3b18e6c47f7b54cca",
            "_model_module": "@jupyter-widgets/controls",
            "children": [
              "IPY_MODEL_27a663c1adce4d9c9e01fd776c3b8a50",
              "IPY_MODEL_683820272f114955835e26503d633cca",
              "IPY_MODEL_ee65fabbd22a4248a8a9f29bd3725500",
              "IPY_MODEL_1afdf346349b40da86c6174bb5d64ae8",
              "IPY_MODEL_d2cb8d9b54cd49899868c5647ecc1a5d"
            ]
          }
        },
        "35593c7c241547b3b18e6c47f7b54cca": {
          "model_module": "@jupyter-widgets/base",
          "model_name": "LayoutModel",
          "state": {
            "_view_name": "LayoutView",
            "grid_template_rows": null,
            "right": null,
            "justify_content": null,
            "_view_module": "@jupyter-widgets/base",
            "overflow": null,
            "_model_module_version": "1.2.0",
            "_view_count": null,
            "flex_flow": null,
            "width": null,
            "min_width": null,
            "border": null,
            "align_items": null,
            "bottom": null,
            "_model_module": "@jupyter-widgets/base",
            "top": null,
            "grid_column": null,
            "overflow_y": null,
            "overflow_x": null,
            "grid_auto_flow": null,
            "grid_area": null,
            "grid_template_columns": null,
            "flex": null,
            "_model_name": "LayoutModel",
            "justify_items": null,
            "grid_row": null,
            "max_height": null,
            "align_content": null,
            "visibility": null,
            "align_self": null,
            "height": null,
            "min_height": null,
            "padding": null,
            "grid_auto_rows": null,
            "grid_gap": null,
            "max_width": null,
            "order": null,
            "_view_module_version": "1.2.0",
            "grid_template_areas": null,
            "object_position": null,
            "object_fit": null,
            "grid_auto_columns": null,
            "margin": null,
            "display": null,
            "left": null
          }
        },
        "27a663c1adce4d9c9e01fd776c3b8a50": {
          "model_module": "@jupyter-widgets/controls",
          "model_name": "IntSliderModel",
          "state": {
            "_view_name": "IntSliderView",
            "style": "IPY_MODEL_254d2a2fb6e240e6ad7cb7b0e3f8b9f6",
            "_dom_classes": [],
            "description": "X",
            "step": 50,
            "_model_name": "IntSliderModel",
            "orientation": "horizontal",
            "max": 500,
            "_view_module": "@jupyter-widgets/controls",
            "_model_module_version": "1.5.0",
            "value": 200,
            "_view_count": null,
            "disabled": false,
            "_view_module_version": "1.5.0",
            "min": 0,
            "continuous_update": true,
            "readout_format": "d",
            "description_tooltip": null,
            "readout": true,
            "_model_module": "@jupyter-widgets/controls",
            "layout": "IPY_MODEL_11a613847c1749849da3c6845375f1b6"
          }
        },
        "683820272f114955835e26503d633cca": {
          "model_module": "@jupyter-widgets/controls",
          "model_name": "IntSliderModel",
          "state": {
            "_view_name": "IntSliderView",
            "style": "IPY_MODEL_8471a911851d4579b468f92a6ba74918",
            "_dom_classes": [],
            "description": "Y",
            "step": 50,
            "_model_name": "IntSliderModel",
            "orientation": "horizontal",
            "max": 500,
            "_view_module": "@jupyter-widgets/controls",
            "_model_module_version": "1.5.0",
            "value": 200,
            "_view_count": null,
            "disabled": false,
            "_view_module_version": "1.5.0",
            "min": 0,
            "continuous_update": true,
            "readout_format": "d",
            "description_tooltip": null,
            "readout": true,
            "_model_module": "@jupyter-widgets/controls",
            "layout": "IPY_MODEL_7733f32e0bce4a3698361c871895ad1a"
          }
        },
        "ee65fabbd22a4248a8a9f29bd3725500": {
          "model_module": "@jupyter-widgets/controls",
          "model_name": "IntSliderModel",
          "state": {
            "_view_name": "IntSliderView",
            "style": "IPY_MODEL_2659349f9c8f4af08810cdbed5897acf",
            "_dom_classes": [],
            "description": "steps",
            "step": 5,
            "_model_name": "IntSliderModel",
            "orientation": "horizontal",
            "max": 100,
            "_view_module": "@jupyter-widgets/controls",
            "_model_module_version": "1.5.0",
            "value": 10,
            "_view_count": null,
            "disabled": false,
            "_view_module_version": "1.5.0",
            "min": 0,
            "continuous_update": true,
            "readout_format": "d",
            "description_tooltip": null,
            "readout": true,
            "_model_module": "@jupyter-widgets/controls",
            "layout": "IPY_MODEL_c7a00adfb1fe4c738d02fec69a6a5781"
          }
        },
        "1afdf346349b40da86c6174bb5d64ae8": {
          "model_module": "@jupyter-widgets/controls",
          "model_name": "ButtonModel",
          "state": {
            "_view_name": "ButtonView",
            "style": "IPY_MODEL_a3f32edbcbfe48eb9cf9a27667df2ee2",
            "_dom_classes": [],
            "description": "Run Interact",
            "_model_name": "ButtonModel",
            "button_style": "",
            "_view_module": "@jupyter-widgets/controls",
            "_model_module_version": "1.5.0",
            "tooltip": "",
            "_view_count": null,
            "disabled": false,
            "_view_module_version": "1.5.0",
            "layout": "IPY_MODEL_a244078f2fe8441c9315dd335e306c5a",
            "_model_module": "@jupyter-widgets/controls",
            "icon": ""
          }
        },
        "d2cb8d9b54cd49899868c5647ecc1a5d": {
          "model_module": "@jupyter-widgets/output",
          "model_name": "OutputModel",
          "state": {
            "_view_name": "OutputView",
            "msg_id": "",
            "_dom_classes": [],
            "_model_name": "OutputModel",
            "outputs": [
              {
                "output_type": "display_data",
                "metadata": {
                  "tags": []
                },
                "text/html": "\n<link rel=\"stylesheet\"\nhref=\"https://maxcdn.bootstrapcdn.com/font-awesome/4.4.0/\ncss/font-awesome.min.css\">\n<script language=\"javascript\">\n  function isInternetExplorer() {\n    ua = navigator.userAgent;\n    /* MSIE used to detect old browsers and Trident used to newer ones*/\n    return ua.indexOf(\"MSIE \") > -1 || ua.indexOf(\"Trident/\") > -1;\n  }\n\n  /* Define the Animation class */\n  function Animation(frames, img_id, slider_id, interval, loop_select_id){\n    this.img_id = img_id;\n    this.slider_id = slider_id;\n    this.loop_select_id = loop_select_id;\n    this.interval = interval;\n    this.current_frame = 0;\n    this.direction = 0;\n    this.timer = null;\n    this.frames = new Array(frames.length);\n\n    for (var i=0; i<frames.length; i++)\n    {\n     this.frames[i] = new Image();\n     this.frames[i].src = frames[i];\n    }\n    var slider = document.getElementById(this.slider_id);\n    slider.max = this.frames.length - 1;\n    if (isInternetExplorer()) {\n        // switch from oninput to onchange because IE <= 11 does not conform\n        // with W3C specification. It ignores oninput and onchange behaves\n        // like oninput. In contrast, Mircosoft Edge behaves correctly.\n        slider.setAttribute('onchange', slider.getAttribute('oninput'));\n        slider.setAttribute('oninput', null);\n    }\n    this.set_frame(this.current_frame);\n  }\n\n  Animation.prototype.get_loop_state = function(){\n    var button_group = document[this.loop_select_id].state;\n    for (var i = 0; i < button_group.length; i++) {\n        var button = button_group[i];\n        if (button.checked) {\n            return button.value;\n        }\n    }\n    return undefined;\n  }\n\n  Animation.prototype.set_frame = function(frame){\n    this.current_frame = frame;\n    document.getElementById(this.img_id).src =\n            this.frames[this.current_frame].src;\n    document.getElementById(this.slider_id).value = this.current_frame;\n  }\n\n  Animation.prototype.next_frame = function()\n  {\n    this.set_frame(Math.min(this.frames.length - 1, this.current_frame + 1));\n  }\n\n  Animation.prototype.previous_frame = function()\n  {\n    this.set_frame(Math.max(0, this.current_frame - 1));\n  }\n\n  Animation.prototype.first_frame = function()\n  {\n    this.set_frame(0);\n  }\n\n  Animation.prototype.last_frame = function()\n  {\n    this.set_frame(this.frames.length - 1);\n  }\n\n  Animation.prototype.slower = function()\n  {\n    this.interval /= 0.7;\n    if(this.direction > 0){this.play_animation();}\n    else if(this.direction < 0){this.reverse_animation();}\n  }\n\n  Animation.prototype.faster = function()\n  {\n    this.interval *= 0.7;\n    if(this.direction > 0){this.play_animation();}\n    else if(this.direction < 0){this.reverse_animation();}\n  }\n\n  Animation.prototype.anim_step_forward = function()\n  {\n    this.current_frame += 1;\n    if(this.current_frame < this.frames.length){\n      this.set_frame(this.current_frame);\n    }else{\n      var loop_state = this.get_loop_state();\n      if(loop_state == \"loop\"){\n        this.first_frame();\n      }else if(loop_state == \"reflect\"){\n        this.last_frame();\n        this.reverse_animation();\n      }else{\n        this.pause_animation();\n        this.last_frame();\n      }\n    }\n  }\n\n  Animation.prototype.anim_step_reverse = function()\n  {\n    this.current_frame -= 1;\n    if(this.current_frame >= 0){\n      this.set_frame(this.current_frame);\n    }else{\n      var loop_state = this.get_loop_state();\n      if(loop_state == \"loop\"){\n        this.last_frame();\n      }else if(loop_state == \"reflect\"){\n        this.first_frame();\n        this.play_animation();\n      }else{\n        this.pause_animation();\n        this.first_frame();\n      }\n    }\n  }\n\n  Animation.prototype.pause_animation = function()\n  {\n    this.direction = 0;\n    if (this.timer){\n      clearInterval(this.timer);\n      this.timer = null;\n    }\n  }\n\n  Animation.prototype.play_animation = function()\n  {\n    this.pause_animation();\n    this.direction = 1;\n    var t = this;\n    if (!this.timer) this.timer = setInterval(function() {\n        t.anim_step_forward();\n    }, this.interval);\n  }\n\n  Animation.prototype.reverse_animation = function()\n  {\n    this.pause_animation();\n    this.direction = -1;\n    var t = this;\n    if (!this.timer) this.timer = setInterval(function() {\n        t.anim_step_reverse();\n    }, this.interval);\n  }\n</script>\n\n<style>\n.animation {\n    display: inline-block;\n    text-align: center;\n}\ninput[type=range].anim-slider {\n    width: 374px;\n    margin-left: auto;\n    margin-right: auto;\n}\n.anim-buttons {\n    margin: 8px 0px;\n}\n.anim-buttons button {\n    padding: 0;\n    width: 36px;\n}\n.anim-state label {\n    margin-right: 8px;\n}\n.anim-state input {\n    margin: 0;\n    vertical-align: middle;\n}\n</style>\n\n<div class=\"animation\">\n  <img id=\"_anim_img7a0a90ad6ea44e7594713433811a5005\">\n  <div class=\"anim-controls\">\n    <input id=\"_anim_slider7a0a90ad6ea44e7594713433811a5005\" type=\"range\" class=\"anim-slider\"\n           name=\"points\" min=\"0\" max=\"1\" step=\"1\" value=\"0\"\n           oninput=\"anim7a0a90ad6ea44e7594713433811a5005.set_frame(parseInt(this.value));\"></input>\n    <div class=\"anim-buttons\">\n      <button onclick=\"anim7a0a90ad6ea44e7594713433811a5005.slower()\"><i class=\"fa fa-minus\"></i></button>\n      <button onclick=\"anim7a0a90ad6ea44e7594713433811a5005.first_frame()\"><i class=\"fa fa-fast-backward\">\n          </i></button>\n      <button onclick=\"anim7a0a90ad6ea44e7594713433811a5005.previous_frame()\">\n          <i class=\"fa fa-step-backward\"></i></button>\n      <button onclick=\"anim7a0a90ad6ea44e7594713433811a5005.reverse_animation()\">\n          <i class=\"fa fa-play fa-flip-horizontal\"></i></button>\n      <button onclick=\"anim7a0a90ad6ea44e7594713433811a5005.pause_animation()\"><i class=\"fa fa-pause\">\n          </i></button>\n      <button onclick=\"anim7a0a90ad6ea44e7594713433811a5005.play_animation()\"><i class=\"fa fa-play\"></i>\n          </button>\n      <button onclick=\"anim7a0a90ad6ea44e7594713433811a5005.next_frame()\"><i class=\"fa fa-step-forward\">\n          </i></button>\n      <button onclick=\"anim7a0a90ad6ea44e7594713433811a5005.last_frame()\"><i class=\"fa fa-fast-forward\">\n          </i></button>\n      <button onclick=\"anim7a0a90ad6ea44e7594713433811a5005.faster()\"><i class=\"fa fa-plus\"></i></button>\n    </div>\n    <form action=\"#n\" name=\"_anim_loop_select7a0a90ad6ea44e7594713433811a5005\" class=\"anim-state\">\n      <input type=\"radio\" name=\"state\" value=\"once\" id=\"_anim_radio1_7a0a90ad6ea44e7594713433811a5005\"\n             >\n      <label for=\"_anim_radio1_7a0a90ad6ea44e7594713433811a5005\">Once</label>\n      <input type=\"radio\" name=\"state\" value=\"loop\" id=\"_anim_radio2_7a0a90ad6ea44e7594713433811a5005\"\n             checked>\n      <label for=\"_anim_radio2_7a0a90ad6ea44e7594713433811a5005\">Loop</label>\n      <input type=\"radio\" name=\"state\" value=\"reflect\" id=\"_anim_radio3_7a0a90ad6ea44e7594713433811a5005\"\n             >\n      <label for=\"_anim_radio3_7a0a90ad6ea44e7594713433811a5005\">Reflect</label>\n    </form>\n  </div>\n</div>\n\n\n<script language=\"javascript\">\n  /* Instantiate the Animation class. */\n  /* The IDs given should match those used in the template above. */\n  (function() {\n    var img_id = \"_anim_img7a0a90ad6ea44e7594713433811a5005\";\n    var slider_id = \"_anim_slider7a0a90ad6ea44e7594713433811a5005\";\n    var loop_select_id = \"_anim_loop_select7a0a90ad6ea44e7594713433811a5005\";\n    var frames = new Array(10);\n    \n  frames[0] = \"data:image/png;base64,iVBORw0KGgoAAAANSUhEUgAAASAAAAEgCAYAAAAUg66AAAAABHNCSVQICAgIfAhkiAAAAAlwSFlz\\\nAAALEgAACxIB0t1+/AAAADh0RVh0U29mdHdhcmUAbWF0cGxvdGxpYiB2ZXJzaW9uMy4yLjIsIGh0\\\ndHA6Ly9tYXRwbG90bGliLm9yZy+WH4yJAAAVEElEQVR4nO3df2xVd/3H8del3RpRoJas5eaW0N1e\\\nKD/KTaEXxERhWouTYFldhOIMXbqA1pglWLb410Qz16ox0aQk5eo2uyW2EiOr2Tq2ifJjxKUCu9t3\\\nNV+4KW1WuqYyoJGhowLn+8cuV/hS4Ha9ve/Tnucj+YR7z7n3nM855L76Oe9z24/PcRxHAGBgmnUH\\\nAHgXAQTADAEEwAwBBMAMAQTADAEEwAwBBMAMAQTADAEEwAwBBMAMAQTADAEEwAwBBMAMAQTADAEE\\\nwAwBBMAMAQTADAEEwAwBBMAMAQTADAEEwAwBBMAMAQTADAEEwAwBBMAMAQTADAEEwAwBBMAMAQTA\\\nDAEEwMyEB9C+fftUUlKiUCikpqamid4dgEnE5ziOM1Ebv3LlihYsWKDXXntNhYWFWrFihdra2rR4\\\n8eKJ2iWASWRCR0BdXV0KhUIKBoO6++67VVNTo46OjoncJYBJZEIDaGBgQHPnzk0+Lyws1MDAwETu\\\nEsAkkm3dAUmKRqOKRqOSpFgspk996lP/XenT6I9He57J17hlu5yD8W/zqqQ307i9iX7NBL3nX//+\\\nl0ZGRkZ54cSZ0AAKBALq7+9PPj99+rQCgcBNr9u2bZu2bdsmScrNzdWa1Z//6OT49NEYzXeLdrt1\\\n411/q3Xj6Y/FPjN9Dtx43u+0/t+SZnj8HEyTDh45rEyb0ABasWKF4vG4ent7FQgE1N7ert/+9re3\\\nfc+1cwUgs3wG+5zQAMrOzlZzc7O+/OUv68qVK6qrq9OSJUvu+D6LEwEg8ya8BrRu3TqtW7duTO8h\\\ngABvcEUR+v8jgABvcF0AXauJAcisKVcD+rgIIMAbCCAAZlwZQNyGB7zBdQFEDQiwQQ0ogQACvIEA\\\nAmCGAAJgxnUBxO+CATaoASUwAgK8gQACYIYAAmCGAAJgxnUBxBcRARsUoRMIIMAbXBlA3IYHvMGV\\\nAcQICPCGtAw2+vv79YUvfEGLFy/WkiVL9Mtf/lKStHPnTgUCAZWVlamsrEydnZ133Nbt/nA/jUab\\\n2JZpaRkBZWdn6+c//7mWL1+uCxcuqLy8XJWVlZKk7du3a8eOHWPansWJAJB5aQkgv98vv98vSZox\\\nY4YWLVo0rhlQCSDAG9Je7+3r69Obb76pz3zmM5Kk5uZmhcNh1dXV6fz58yl3ikajZbZZSOt+P/jg\\\nAz344IP6xS9+oZkzZ6q+vl49PT2KxWLy+/1qaGgY9X3RaFSRSESRSEQfjoyYXwfTaF5tmZa2u2D/\\\n+c9/9OCDD+qhhx7S1772NUlSQUFBcv3WrVu1fv36Ud97/dTMBbm5JicCQOalJYAcx9EjjzyiRYsW\\\n6Xvf+15y+eDgYLI2tHfvXpWWlqa0PQII8Ia0BNCRI0f0/PPPa+nSpSorK5MkPfXUU2pra1MsFpPP\\\n51NRUZF2796d0vYIIMAb0hJAn/vc5+Q4zk3Lxzol8zUEEOANrvsmtFUxDPC6SV2ETierW4IAMsuV\\\nAcQICPAGAgiAGdcFEDUgwAY1oARqQIA3uDKAGAEB3kAAATDjugCiBgTYoAaUQAAB3kAAATBDAAEw\\\nQwABMOO6APKJ7wEBFihCJzACAryBAAJghgACYMZ1AUQNCLAxqWtARUVFmjFjhrKyspSdna2jR4/q\\\n3Llz2rRpk/r6+lRUVKQ9e/bo05/+9B23xQgI8Ia0Djb+8pe/KBaL6ejRo5KkpqYmVVRUKB6Pq6Ki\\\nQk1NTSltx3puJBrNi83ChF6CdXR06MCBA5Kk2tpa3XffffrJT35yx/dZnQwAmZW2APL5fFq7dq18\\\nPp++9a1vadu2bRoaGkrOCzZnzhwNDQ3deTsigAALFp+7tAXQ66+/rkAgoH/84x+qrKzUwoULb1jv\\\n8/nk841+iNFoVNFoVJJ0MTE1M4CpL20BFAgEJEn5+fmqrq5WV1eXCgoKkrOjDg4OKj8/f9T3Xj81\\\n81ymZgY8Iy1F6IsXL+rChQvJx6+++qpKS0tVVVWl1tZWSVJra6s2bNiQ0vasi3E0mhebhbSMgIaG\\\nhlRdXS1Junz5sr7xjW/o/vvv14oVK7Rx40Y9/fTTmjdvnvbs2XPHbfnE94AACxYhlJYACgaDeuut\\\nt25aPnv2bO3fv3/M27NKYwCZ5bpvQksEEOAVBBAAM64LIGpAgI1JWwNKN0ZAgDcQQADMEEAAzBBA\\\nAMy4LoAsv5UJeBlF6AQCCPAGVwYQt+EBb3BlADECArzBdQFEDQiwQQ0ogQACvIEAAmDGdQHE74IB\\\nNrgES2AEBHgDAQTADAEEwAwBBMBMWgLoxIkT2rRpU/L5qVOn9KMf/UjDw8P61a9+pXvuuUeS9NRT\\\nT2ndunW33RbfAwJsTNoidElJiWKxmCTpypUrCgQCqq6u1rPPPqvt27drx44dY9oeAQR4Q9ovwfbv\\\n36/i4mLNmzfvY2+D2/CAN6T9s97e3q7Nmzcnnzc3NyscDquurk7nz59PaRvWE7TRaF5sFtIaQCMj\\\nI/rjH/+or3/965Kk+vp69fT0KBaLye/3q6GhYdT3RaNRRSIRRSIR/TMxNzyNRst8y7S0XoK9/PLL\\\nWr58uQoKCiQp+a8kbd26VevXrx/1fdfPDR9ibnjAM9IaQG1tbTdcfg0ODsrv90uS9u7dq9LS0pS2\\\nQwAB3pC2ALp48aJee+017d69O7ns8ccfVywWk8/nU1FR0Q3rbociNOANaQugT37ykzp79uwNy55/\\\n/vkxb8fqWhTwuklfA0oXAgjwBgIIgBkCCIAZAgiAGdcFEEVowAZF6ARuwwPe4MoAYgQEeAMBBMCM\\\n6wKIGhBggxpQAgEEeIMrA4giNOANrgwgRkCAN7gugKgBATaoASUQQIA3EEAAzBBAAMy4LoB84i4Y\\\nYIEaUAIjIMAbxjTYqKurU35+/g1/XP7cuXOqrKzU/PnzVVlZmZz7y3EcPfroowqFQgqHwzp+/HjK\\\n+7GemoRG82KzMKYAevjhh7Vv374bljU1NamiokLxeFwVFRVqamqS9NEUPfF4XPF4XNFoVPX19Snv\\\nx/o/gkbzYrMwpgBavXq18vLybljW0dGh2tpaSVJtba1eeOGF5PItW7bI5/Np1apVGh4e1uDgYEr7\\\nsf6PoNG82CyMuwY0NDSUnPtrzpw5GhoakiQNDAxo7ty5ydcVFhZqYGAg+dpbsTwZgJdZfO7SWoT2\\\n+Xzy+cZ+GNFoVNFoVJJ0fmSEu2CAR4w7gAoKCpIzoA4ODio/P1+SFAgE1N/fn3zd6dOnFQgERt3G\\\n9VMzL2ZqZsAzxj3YqKqqUmtrqySptbVVGzZsSC5/7rnn5DiO3njjDc2aNeuOl1/XWF8L02hebBbG\\\nNALavHmzDhw4oPfff1+FhYX64Q9/qO9///vauHGjnn76ac2bN0979uyRJK1bt06dnZ0KhUKaPn26\\\nnn322ZT2YXkyAC+z+NyNKYDa2tpGXb5///6blvl8Pu3atetjdYoAAryBb0IDMOPKAOIuGOANrgsg\\\nakCADdfXgDKFAAK8gQACYIYAAmDGdQHkE0VowAI1oARGQIA3EEAAzBBAAMwQQADMuC6A+CIiYIMi\\\ndAIBBHiDKwOI2/CAN7gygBgBAd7gugCiBgTYoAaUQAAB3kAAATAz7qmZH3vsMS1cuFDhcFjV1dUa\\\nHh6WJPX19ekTn/iEysrKVFZWpm9/+9tj6hSNRstsszCm/Y42NXNlZaXeeecdvf3221qwYIEaGxuT\\\n64qLixWLxRSLxdTS0pLSPqxnBqDRvNwybUyXYKtXr1ZfX98Ny9auXZt8vGrVKv3+978fd6csTgSA\\\nzEvryOuZZ57RV77yleTz3t5eLVu2TGvWrNHhw4dT3o71TwEazYvNQtqK0D/+8Y+VnZ2thx56SJLk\\\n9/v17rvvavbs2Tp27JgeeOABdXd3a+bMmTe99/qpmc+OjJidDACZlZYA+s1vfqMXX3xR+/fvT84N\\\nn5OTo5ycHElSeXm5iouLdfLkSUUikZvef/3UzGVMzQx4xrgDaN++ffrpT3+qgwcPavr06cnlZ86c\\\nUV5enrKysnTq1CnF43EFg8E7bs8nu4o84GUWP/jHPTVzY2OjLl26pMrKSkkfFaJbWlp06NAhPfHE\\\nE7rrrrs0bdo0tbS0KC8vL6X9MAICvMHnOI5j3YnrLcvN1cHVn/9vZWyabl01u9268a6/1brx9Mdi\\\nn5k+B24873da/29JMzx+DqZJa44c1puJ7/Fliuu+CX3tfADILIvPnesCSCKAAK8ggACYcWUAcRcM\\\n8AbXBRA1IMAGNaAEAgjwBgIIgBkCCIAZAgiAGdcF0LUvbQLILIrQCYyAAG9wXQB9ICn1P10GIF0+\\\nMNin6wLohKT7rDsBeJDFb6W7LoAkLsEACwRQAgEEeIPrAoi7YICNqwb7dF0ASYyAAK8ggACYGdPV\\\nzmhTM+/cuVOBQCA5BXNnZ2dyXWNjo0KhkEpKSvTKK6+kvJ/b/eVIGo02Mc3CmEZADz/8sL773e9q\\\ny5YtNyzfvn27duzYccOyv//972pvb1d3d7fee+89felLX9LJkyeVlZV1x/1YnQwAmTXuqZlvpaOj\\\nQzU1NcrJydG9996rUCikrq4uffazn73t+3yiCA1YsPjBn5bPenNzs8LhsOrq6nT+/HlJ0sDAgObO\\\nnZt8TWFhoQYGBlLanvVQlEbzYrMw7gCqr69XT0+PYrGY/H6/GhoaxryNaDSqSCSiSCQiJzE1M41G\\\ny2yzMO67YAUFBcnHW7du1fr16yVJgUBA/f39yXWnT59WIBAYdRvXT82cxdTMgGeMewQ0ODiYfLx3\\\n797kHbKqqiq1t7fr0qVL6u3tVTwe18qVK++4PeufAjSal1umjXtq5gMHDigWi8nn86moqEi7d++W\\\nJC1ZskQbN27U4sWLlZ2drV27dqV0B0yyOREAMs91UzNn5+ZqJlMzp2+fTM3M1Mwprv/nkcO67PWp\\\nmSVuwwNe4boAuhbIADLL4nPnugCSCCDAKwggAGYIIABmXBdA1wr2ADKLGlACIyDAGwggAGYIIABm\\\nCCAAZlwXQHwREbBBETqBAAK8wZUBxG14wBtcGUCMgABvcF0AUQMCbFADSiCAAG8ggACYcWUAUYQG\\\nvGFMAVRXV6cXX3xR+fn5eueddyRJmzZt0okTJyRJw8PDys3NVSwWU19fnxYtWqSSkhJJ0qpVq9TS\\\n0nLHfVADAmy4vgY02tTMv/vd75KPGxoaNGvWrOTz4uJixWKxMXeKAAK8IW1TMzuOoz179ujPf/7z\\\nuDtFAAHekLZyy+HDh1VQUKD58+cnl/X29mrZsmVas2aNDh8+nPK2bvfH+2k02sQ0C2krQre1tWnz\\\n5s3J536/X++++65mz56tY8eO6YEHHlB3d7dmzpx503uj0aii0agk6UpiamYAU19aAujy5cv6wx/+\\\noGPHjiWX5eTkKCcnR5JUXl6u4uJinTx5UpFI5Kb3Xz8183SmZgZMWHzu0hJAf/rTn7Rw4UIVFhYm\\\nl505c0Z5eXnKysrSqVOnFI/HFQwGU9oet+EBbxj31MyPPPKI2tvbb7j8kqRDhw7piSee0F133aVp\\\n06appaVFeXl5Ke2HERDgDa6bmnl6bq4WMjVz+vbJ1MxMzZzi+v89clj/8vrUzNfOB4DMsvjcuS6A\\\nJGpAgFe4MoAYAQHeQAABMOO6AKIGBNigBpRAAAHeQAABMEMAATBDAAEw47oAuvalTQCZRRE6gREQ\\\n4A0EEAAzBBAAM64LIGpAgA1qQAmMgABvIIAAmCGAAJhxXQDxy6iADWpACQQQ4A0EEAAzrgwgbsMD\\\n3uC6AKIGBNigBiQpOztb//PW27rnnnusuzIhzpw5M2WPTZrEx7c8tZe56vicRJOkK+PfXHZ25uPA\\\ndfOCSVIkEtHRo0etuzEhpvKxSRwfxoZyCwAzBBAAM1k7d+7cad2J0ZSXl1t3YcJM5WOTOD6kzpU1\\\nIADewCUYADOuCqB9+/appKREoVBITU1N1t1Ji6KiIi1dulRlZWWKRCKSpHPnzqmyslLz589XZWWl\\\nzp8/b9zL1NXV1Sk/P1+lpaXJZbc6Hsdx9OijjyoUCikcDuv48eNW3U7ZaMe3c+dOBQIBlZWVqays\\\nTJ2dncl1jY2NCoVCKikp0SuvvGLR5cnNcYnLly87wWDQ6enpcS5duuSEw2Gnu7vbulvjNm/ePOfM\\\nmTM3LHvsscecxsZGx3Ecp7Gx0Xn88cctuvaxHDx40Dl27JizZMmS5LJbHc9LL73k3H///c7Vq1ed\\\nv/71r87KlStN+jwWox3fD37wA+dnP/vZTa/t7u52wuGw8+GHHzqnTp1ygsGgc/ny5Ux2d9JzzQio\\\nq6tLoVBIwWBQd999t2pqatTR0WHdrQnR0dGh2tpaSVJtba1eeOEF4x6lbvXq1crLy7th2a2Op6Oj\\\nQ1u2bJHP59OqVas0PDyswcHBjPd5LEY7vlvp6OhQTU2NcnJydO+99yoUCqmrq2uCezi1uCaABgYG\\\nNHfu3OTzwsJCDQwMGPYoPXw+n9auXavy8nJFo1FJ0tDQkPx+vyRpzpw5GhoasuziuN3qeKbS/2lz\\\nc7PC4bDq6uqSl5hT6fisuCaApqrXX39dx48f18svv6xdu3bp0KFDN6z3+Xzy+abOb79NteORpPr6\\\nevX09CgWi8nv96uhocG6S1OGawIoEAiov78/+fz06dMKBAKGPUqPa8eQn5+v6upqdXV1qaCgIHkp\\\nMjg4qPz8fMsujtutjmeq/J8WFBQoKytL06ZN09atW5OXWVPl+Cy5JoBWrFiheDyu3t5ejYyMqL29\\\nXVVVVdbdGpeLFy/qwoULycevvvqqSktLVVVVpdbWVklSa2urNmzYYNnNcbvV8VRVVem5556T4zh6\\\n4403NGvWrOSl2mRyfd1q7969yTtkVVVVam9v16VLl9Tb26t4PK6VK1dadXNysq6CX++ll15y5s+f\\\n7wSDQefJJ5+07s649fT0OOFw2AmHw87ixYuTx/T+++87X/ziF51QKORUVFQ4Z8+eNe5p6mpqapw5\\\nc+Y42dnZTiAQcH7961/f8niuXr3qfOc733GCwaBTWlrq/O1vfzPu/Z2Ndnzf/OY3ndLSUmfp0qXO\\\nV7/6Vee9995Lvv7JJ590gsGgs2DBAqezs9Ow55MT34QGYMY1l2AAvIcAAmCGAAJghgACYIYAAmCG\\\nAAJghgACYIYAAmCGAAJghgACYIYAAmCGAAJghgACYIYAAmCGAAJghgACYIYAAmCGAAJghgACYIYA\\\nAmDm/wDqgyRU4EV4SQAAAABJRU5ErkJggg==\\\n\"\n  frames[1] = \"data:image/png;base64,iVBORw0KGgoAAAANSUhEUgAAASAAAAEgCAYAAAAUg66AAAAABHNCSVQICAgIfAhkiAAAAAlwSFlz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\\\nQog0/h9neSKbUQhS6gAAAABJRU5ErkJggg==\\\n\"\n  frames[2] = \"data:image/png;base64,iVBORw0KGgoAAAANSUhEUgAAASAAAAEgCAYAAAAUg66AAAAABHNCSVQICAgIfAhkiAAAAAlwSFlz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\\\nAMwQQADMEEAAzPw/Y2okurQWHkcAAAAASUVORK5CYII=\\\n\"\n  frames[3] = \"data:image/png;base64,iVBORw0KGgoAAAANSUhEUgAAASAAAAEgCAYAAAAUg66AAAAABHNCSVQICAgIfAhkiAAAAAlwSFlz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\\\n5h6nOsPwogAAAABJRU5ErkJggg==\\\n\"\n  frames[4] = \"data:image/png;base64,iVBORw0KGgoAAAANSUhEUgAAASAAAAEgCAYAAAAUg66AAAAABHNCSVQICAgIfAhkiAAAAAlwSFlz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\\\nAAAAAElFTkSuQmCC\\\n\"\n  frames[5] = \"data:image/png;base64,iVBORw0KGgoAAAANSUhEUgAAASAAAAEgCAYAAAAUg66AAAAABHNCSVQICAgIfAhkiAAAAAlwSFlz\\\nAAALEgAACxIB0t1+/AAAADh0RVh0U29mdHdhcmUAbWF0cGxvdGxpYiB2ZXJzaW9uMy4yLjIsIGh0\\\ndHA6Ly9tYXRwbG90bGliLm9yZy+WH4yJAAAgAElEQVR4nO2df2xVZ/3H309b17gFUHAtzS1funKh\\\nUMpNNwpi4oiKxYVgGaL8cH7pUgOKMUsQtviXosG16tdEE0jgKm7d1Fb+kNVsjG2ijM24VMCrGfsG\\\nmtJm0DUVRpsvI8qEPd8/eu/tuc99nvOjvT3ntOf9Npd7zvPrde7nme/zOc9t+wgppQRFUVQAKgr6\\\nAiiKiq5oQBRFBSYaEEVRgYkGRFFUYKIBURQVmGhAFEUFJhoQRVGBiQZEUVRgogFRFBWYaEAURQUm\\\nGhBFUYGJBkRRVGCiAVEUFZhoQBRFBSYaEEVRgYkGRFFUYKIBURQVmGhAFEUFJhoQRVGBiQZEUVRg\\\nogFRFBWYaEAURQUmGhBFUYGJBkRRVGCiAVEUFZhoQBRFBSYaEEVRgYkGRFFUYKIBURQVmGhAFEUF\\\npkk3oBMnTqCmpgbxeBxtbW2TjaMoagpJSCnlZA1+584dLFq0CK+88goqKyuxYsUKdHR0oLa2drKQ\\\nFEVNIU1qBtTd3Y14PI7q6mrcdddd2Lp1K7q6uiYTSVHUFNKkGtDAwADmzZuXPa+srMTAwMBkIimK\\\nmkIqCfoCACCZTCKZTAIA3nrrLVRVVY1VCk0HtczpfDx9vIz5AYC/FXC8yW7jVx+1bKrHYDLGDVEM\\\n3hl8ByMjI5qBJk+TakCxWAyXL1/Onl+5cgWxWCyv3c6dO7Fz504AQG1tLX79q2dGgyMACAEIaTnH\\\naN5mPc+2EUCRzC8TMt3HOpZIv0tlPI88IYF/AZihlGXaFWl4OWNqeHlMzdhFBl7OZ0Xu2HkxKBAv\\\nW4/8sYsMPG0MdLEz8IRI91fHtsbAxBwnT8Ayn5r5MzLt5moCPCPTbmz1v8mx40ea/zvv/5uTrUk1\\\noBUrVqCnpwd9fX2IxWLo7OzEb37zG8d+ImvNMv3Stxqrk8q5mzJrOXnkkReEJtWASkpKcODAAXzu\\\nc5/DnTt30NLSgqVLl9r2yZj4WEDUoAFjE2KVLoBu+qltySMvmjw7+mRp0teA1q1bh3Xr1nnqkxsI\\\nUyB14RJKne4u4iTyyCPPL4ViEVqVsPxrTg3tHN7k9HZ3APLIizrPf4XSgEZ/NkB1dV3qCeQHU+f6\\\ndoG2PgeTR17Uef4qdAYkAIg85zYFGy7KrROgtlU55JEXXV4QD2WhMyAAELYBNvdydnd1XGvIySMv\\\n6jz/FVIDUtNNU6ppdXI75zd5uym9JY+8KPL8V0gNSHcncJNymvrZubwuHSWPvKjy/FXoDEgAKMoL\\\nkG4SdEHU9XMj8sgjj2tAaekD4cW17e4QmdF1k0geeVHm+a8pZECZGl2gdHcDU9tMHQz15JEXVZ7/\\\nmmIGZHc3UCct864L/HhTX/LIizKv8AqpAdmljHYyOXw+IbeOPPLIC0KhMyCBTDh0Qdc9H5vSVWt/\\\nU0pqak8eedHjBWFDoTMgABA5gQLy00jdsS6o1jFgOZcObckjL8o8/xRKAxr9XTA1gGrg1ElQ2+ru\\\nCmo7XVvyyIsyz1+F0oBGw6MGRhd8XVpqbasG3e7OQB555Pmt0BmQgOrtukCZJkUnr33IIy+aPDWn\\\n8kOhMyBADYTbCfEyul178sgjzy9NAQNykl3wdMGVNnXkkRdlnv8qyL5gly9fxqc//WnU1tZi6dKl\\\n+NnPfgYA2LdvH2KxGOrr61FfX4/jx4+7vqjRl7AcS8ux25c0jGUajzzyossLQgXJgEpKSvCTn/wE\\\nDzzwAG7cuIHly5ejsbERALB7927s3bvX9Vi5a0CFDIqX52PyyIseb8quAVVUVKCiogIAMGPGDCxZ\\\nsmRCO6DqA6FLH92mqdZ24+lDHnlR502Oigo9YH9/P/72t7/h4x//OADgwIEDSCQSaGlpwfDwsKsx\\\nBEQ6E8q8AwLScpypk8o5NG0yfXX1ajvyyIsuLwgV1IDee+89bNq0CT/96U8xc+ZM7Nq1C729vUil\\\nUqioqMCePXu0/ZLJJBoaGtDQ0IB3h4ctgVSDbH2pdVITeNMkqcEnjzzyglDBvgX7z3/+g02bNuGR\\\nRx7BF77wBQBAeXl5tn7Hjh1Yv369tq91a+b62lolGALmFFENm0R+aimUcieRRx55fqkgBiSlxFe/\\\n+lUsWbIE3/rWt7Llg4OD2bWhY8eOoa6uznEsATUtswuU3TOwhP1kuR2TPPKiwQsiCyqIAf35z3/G\\\ns88+i2XLlqG+vh4A8OSTT6KjowOpVApCCFRVVeHw4cOuxhPZf71Okps7g8n9ySOPPL9VEAP65Cc/\\\nCSnzP4TXLZkzEnnO7dxjTGqaaaoTSj155EWd579C95PQo4tjXhzZ7Z1BnUAvE0oeedOfN2UfwQqt\\\n3EcwJ6mBtIbRNIZuksgjL+o8/xVSA5pIQHRpq65NLpE88sjzX6E0oCJXKaSd3Paz3i3IIy/qPP8V\\\nOgMSyPi130Ejj7xo87gGlJa3NSC3IzqNRR555PmtEBuQmwA5BdJLoMkjjzy/FVIDsguUdUHNabFO\\\n/UZAN4auH3nkRZHnv0JqQE4ubVqUs5bbrfzr+pFHHnl+K3QGJOD2V/RNQbO6fCbohUg9ySNvevO4\\\nCJ2WORBeQ6QG3xp0p5+NII+8KPL8VegM6D0Arxlr1YCZUk+nvtZzu/7kkRcd3nsuehVaoTOgCwA+\\\npXVnu+di693CbgFPV6cbnzzyosdzY1uFVugMCADy94Z3kjQcm9plJkG9Y5BHXnR5NKC0xsLs5Ppq\\\nndOdQS1TJ5Q88qLM81+hMyAB07dgpiC5cXvTZLm5O5BHXjR4H9jQJkuhMyDAfaKZ28NpstwuzpFH\\\nHnl+aYoYkLXETcqqC7Db9JU88sjzSwUzoKqqKsyYMQPFxcUoKSnBmTNncP36dWzZsgX9/f2oqqrC\\\n0aNH8dGPftRxrPxfxdAFx+n5Vtq0cxqLPPKizPNPBd0X7E9/+hNSqRTOnDkDAGhra8OaNWvQ09OD\\\nNWvWoK2tzdU4wtXLbo+k8bQjj7xo84LQpD6CdXV14dSpUwCA5uZmfOpTn8IPf/hD2z4CmT9IZqoF\\\n7O8AwlBvbaO2I4888oIwoYIZkBACa9euhRACX/va17Bz504MDQ1l9wWbO3cuhoaG3I1lLJWaWmsQ\\\nTX0y8pJ6kkceeZOtghnQ66+/jlgshn/+859obGzE4sWLc+qFEBBCby3JZBLJZBIAIIeHNQZk5+Lq\\\ns63bANvVkUceeX6oYAYUi8UAAGVlZdi4cSO6u7tRXl6e3R11cHAQZWVl2r7WrZmLa2thvwhtdX03\\\nwTVNlnoHIY+8qPP8V0EWoW/evIkbN25kj19++WXU1dWhqakJ7e3tAID29nZs2LDBcazRBTHrQplQ\\\n3jP10lBnPdaNlfmftLyTRx55QVhQQTKgoaEhbNy4EQBw+/ZtfPnLX8ZDDz2EFStWYPPmzThy5Ajm\\\nz5+Po0ePuhovNxBSede19pJmWtvr2pJHXlR5/qsgBlRdXY2///3veeVz5szByZMnPY8ntGdqkDKB\\\nE7APorUdkBt03djkkRdVnv8K5U9C5z4XmgLjdCewa6ebZPLIizrPf4XOgDL+7b0XMBZU1dGtk2md\\\ngPE6P3nkTT9eEBYUOgMCMuEbT/CFcqy6vWlCyCOPvCAUYgPSObapterm6rE6nikNJY+8KPP8V4gN\\\nSOfYaiupqVMnx+vEkUceeX4pdAYkoC5C6xw7c65ze1M/uzuCOinkkRc9noD/Cp0BAYBwHQpdqmmt\\\nyx85v04C5JFHXiAKqQEBuemm3QToJkt3B3EKMnnkkee3QmpAupTT5NZ2Lq9LSXVl5JFHXhAKqQGZ\\\ngm+S27uH9VhNU8kjjzy/FToDGk0YdcGwmpJdmS64OsfXtSePvOjygsiBQmdAgJoBWZ9Z7e4GppRU\\\nLXMyN/LIizrPP4XSgIrygp2RXbCcAqm7O6h9ySOPPD8VSgMaSwULFSC3wSaPPPL8VOgMSMBqQHbP\\\nxqbe0LRzG2zyyIsuj2tAaeVmQF7CYjchbiaMPPLI81MhNiDrYpuuhYS3IDq1J4888vxWKA1o9HfB\\\ndAFS3V8NnjoRXhftyCOPPD8VOgPKXQNS5eT+ajtTe1MdeeRFlzdl14AuXLiALVu2ZM8vXbqE73//\\\n+xgZGcHPf/5z3HvvvQCAJ598EuvWrXMcT+RNghpU3bEadDvZjUseeVHl+a+CGFBNTQ1SqRQA4M6d\\\nO4jFYti4cSOeeuop7N69G3v37vU0Xv7vglkd3OTspmCb0lRheSePPPKCUMEfwU6ePIkFCxZg/vz5\\\n4x4jNxSqO5uCO550VldOHnlR5fmvgmxMaFVnZye2bduWPT9w4AASiQRaWlowPDzsagzh+FI3a/Pa\\\nTrjsTx550eEFoYIa0Pvvv4/f//73+NKXvgQA2LVrF3p7e5FKpVBRUYE9e/Zo+yWTSTQ0NKChoQF3\\\n0nvDj+3YaAqm3e6PunN1J0ndGOSRF2We/yroI9iLL76IBx54AOXl5QCQfQeAHTt2YP369dp+1r3h\\\n766ttXwNb5VQykzHbs7djEEeeVHj+a+CGlBHR0fO49fg4CAqKioAAMeOHUNdXZ2rcfRObAqaOhHj\\\nbUMeeeT5rYIZ0M2bN/HKK6/g8OHD2bInnngCqVQKQghUVVXl1Nkp34DUEju3t/aRhjZOE0AeeeT5\\\noYIZ0D333IN33303p+zZZ5/1PM7Ys6hdwNzI2kcXYLWMPPKizZvya0CFkn4NCLCfFLtJ1I3l5rmY\\\nPPKiyvNHoTQgkXNkl16qdU7t3ZDJI488vxRSAxrvM6nbPtbJEZYy8siLMs9/hc6A9GtAppYZmVJN\\\n07m1Tyb45JEXbR7XgNIaDYSbYJvaSEs76TCW2oc88sjzSyE1IKcAqW6uK7MLtNdnY/LIixLPP4XU\\\ngExnboPkZcLs6OSRF3Xe5GoKGJCX9FT3rGs3lt2zN3nkRY3nv0JnQALW35B1802AXaqqa2+dFNOE\\\nk0de9HhchE5rLBBenoPVEXTPwKZz8sgjLwiF3IDctvaSpk400OSRR16hNEUMyPRMC825Tl6DTB55\\\n5Pmh0BlQ7hqQ2x66Z2Voyq3tx5t2kkfe9ORxDSgt+1/FUIMpNeVuUs7MJKvl5JEXVZ7/CqkBmVJM\\\nu0lQJ0zXXy2zqyOPvKjx/FdIDSgjqZTapZBqe+u5XRtde/LII88Phc6ABEyPYKaU1E0AndJXXRvy\\\nyIsWj2tAaZl/F2w8bm13p3AakzzyosbzV56+cGppaUFZWVnOH5e/fv06GhsbsXDhQjQ2Nmb3/pJS\\\n4rHHHkM8HkcikcC5c+dcc0T2pW4fojsWSjt1CxKpaZMpV/dIIo+86PKCkCcDevTRR3HixImcsra2\\\nNqxZswY9PT1Ys2YN2traAIxu0dPT04Oenh4kk0ns2rXLw0WJ9EumX0i/ZLocSpnaBoY2ujpBHnnk\\\nIRh54q5evRqzZ8/OKevq6kJzczMAoLm5Gc8991y2fPv27RBCYNWqVRgZGcHg4KAjQ+/Uarn1Xefy\\\n6rl691DvNOSRR56A/5rwGtDQ0FB276+5c+diaGgIADAwMIB58+Zl21VWVmJgYCDb1k5j6aB11d56\\\nrpN00c7p2wHyyCPPTxV0EVoIASG8+2gymUQymQQAvJ/emnk0eG4DlAn2RBbsyCOPPL81YQMqLy/P\\\n7oA6ODiIsrIyAEAsFsPly5ez7a5cuYJYLKYdw7o180dqa9MGZHV7t5NjbWtXljm2csgjjzy/NeG1\\\np6amJrS3twMA2tvbsWHDhmz5M888Aykl3njjDcyaNcvl45d14c20iAZl8S2zGKdboDMt2lkX4cgj\\\nj7zQrwFt27YNp06dwrVr11BZWYnvfe97+Pa3v43NmzfjyJEjmD9/Po4ePQoAWLduHY4fP454PI67\\\n774bTz31lGuOcwakC5XuruCmn9qWPPLI80ueDKijo0NbfvLkybwyIQQOHjw4rovKDYspkLrgCaVO\\\nKnVuRB555PmlkP4k9Ni/5uddO4c3Ob3dHYA88qLO81+hMyAB6yOYOgG6gKnB1Lm+XaCtC3PkkRdd\\\nXhA5UegMCAD0Pwfkxfl1fXVjqBzyyIsyz3+F1IDGE5xMH7t+6rhWzyePvKjz/FcoDagoL900pZpW\\\nJ7dzflNyaUpvySMvijz/FToDEtBlQG5TTlM/O5fXpaPkkRc9HteA0sr/0wC6SdAFUdfPjcgjj7wg\\\nFFID0slL8OzuEJnRdZNIHnlR5vmvKWRAmRpdoHR3A1PbTB0M9eSRF1We/wqdAQnY/YKa3d1AnbTM\\\nuy7w4019ySNv+vK4BpTW+L6Gh6GP6Q5hrSOPPPKCUEgNKPOvGizd87EpXbX2N6WkpvbkkRd1nj8K\\\nqQFZAwXkp5G6Y11QrWPAci4d2pJHXpR5/imkBpT5V+aVjkmdBLWt7q6gttO1JY+8KPP8VegMSCAT\\\nHjUwuuDr0lJrWzXodncG8siLNi+Ih7DQGRCgBkI3MaZJ0clrH/LII88vhdKAcr+GdzshbuXUnjzy\\\nyPNLoTQgb6mgXfB0wZU2deSRF2We//L0R+l1WzM//vjjWLx4MRKJBDZu3IiRkREAQH9/Pz784Q+j\\\nvr4e9fX1+PrXv+6KIXJeug3avLzsNmvTjUceedHm+S1PBqTbmrmxsRFvvvkm/vGPf2DRokVobW3N\\\n1i1YsACpVAqpVAqHDh1yzZlYkN0EfyJtyCNvevKC0IS3Zl67di1KSkaf5FatWoUrV65M+KL0ATNt\\\nL+sm2GKCfcgjb/rzglBB14B++ctfYsuWLdnzvr4+3H///Zg5cyb279+PBx980NU4RRAwr/RnJJQy\\\n9dxapvt6U9eOPPLI81MFM6Af/OAHKCkpwSOPPAIAqKiowNtvv405c+bg7NmzePjhh3H+/HnMnDkz\\\nr691a+Z/Dw8j/29C6+Rm8c40AWrwySOPvCCyoIIY0NNPP43nn38eJ0+ezO4NX1paitLSUgDA8uXL\\\nsWDBAly8eBENDQ15/a1bM5dnt2bOyOnOYFXG3a39hFLuJPLII88vTdiATpw4gR/96Ed49dVXcffd\\\nd2fLr169itmzZ6O4uBiXLl1CT08PqqurXY2ZG0Yvrq+6/XjSTPLII88vTXhr5tbWVty6dQuNjY0A\\\nRheiDx06hNOnT+M73/kOPvShD6GoqAiHDh3KW8A2SWT/9Ro0N3cGk/uTRx55fktIKUNlieW1tXjk\\\nV88CQo7GSfcqUsuEpU6mz2VuXRHSZSL/PVs3Dp6QwL8EMEPq64o0vOx1Gnh5TGVMISz9TXUKT0jN\\\n5ygQL+9zWuLpimka06Yu53Nq5s/EtRvTiZf9nIb/XoxM05h2dS54Rqaw1Gn+/1Ck5/26+b8x9L9v\\\nwU+F7iehR2PoxRMF3N0ZpMM7eeRFmyc8kgqh0BkQkPnhJKcAZqQG0hpG0xi6SSKPvKjz/FcoDWj8\\\nf5IVGJu4zLGpTS6RPPLI818hNSA3KaSd3Paz3i3IIy/qPP8VOgPKrKP5HzTyyIs2j2tAaXlbA3Ij\\\nN2ORRx55fiuUBuQ+A3IKpJdAk0ceeX4rpAZkFyjrgprTYp36jYBuDF0/8siLIs9/hc6ARteAnFza\\\ntChnLbdb+df1I4+8aPO4BpSWu0CYJsXq8pmRCpF6kkceeYXWFDMgrx6tBt8adKefjSCPvCjy/NUU\\\nMyA1YKbU06mv9dyuP3nkRY3nr0JqQDp3tguY9W5ht4Cnq9ONTx55UeT5r9AZkABQlBcgJ0nDsald\\\nZhLUOwZ55EWXF8RDWOgMCLCG2cn11TqnO4NapoacPPKizPNfITcgq0xBcuP2pslyc3cgj7yo8PzX\\\nFDIgpx5Ok1XIoJNHHnmFUOgMaHQNSFeakZuUVRdgt+kreeRFkxfEGtCEt2bet28fYrFYdgvm48eP\\\nZ+taW1sRj8dRU1ODl156yTVHv21s5pUp023CZm0jbdqpL/LIIy8IecqAHn30UXzzm9/E9u3bc8p3\\\n796NvXv35pS99dZb6OzsxPnz5/HOO+/gs5/9LC5evIji4mJHjrtguE0fC5VmkkceeYXWhLdmNqmr\\\nqwtbt25FaWkp7rvvPsTjcXR3d7vqa94DW9g4uHB0+LE6qbQjjzzygpAnAzLpwIEDSCQSaGlpwfDw\\\nMABgYGAA8+bNy7aprKzEwMCA41j2wdJNhDWIpjqniSSPPPIE/NeEDWjXrl3o7e1FKpVCRUUF9uzZ\\\n43mMZDKJhoYGNDQ04ObwsIdgW4OoC7zdhNrVkUde9HhBaMLfgpWXl2ePd+zYgfXr1wMAYrEYLl++\\\nnK27cuUKYrGYdgzr1szzamvToTOt2GdW9HXlOqljqeVOY5FHXlR4/mvCGdDg4GD2+NixY9lvyJqa\\\nmtDZ2Ylbt26hr68PPT09WLlypasx9av76jOxNNTZpZnW/0nLO3nkkReEJrw186lTp5BKpSCEQFVV\\\nFQ4fPgwAWLp0KTZv3oza2lqUlJTg4MGDrr8By3VFqbzrerhx/kydtb3dz1CQR160eEHkQKHbmvm/\\\namux91fPWCxbpN/lWFl2C12ZX6/dRlkqW9wqfXO2SfbIEwD+BWCGwssZW9M3b1ti6zXAvNVxzjUZ\\\nrst2m+RJ4Nltk2zcWtimj2PcdXOqxDNv62u7Pi552m28dXMKhz5OcXfJc/zvQMPTxn207/80b8fb\\\nUd+aGYDixCZ/dLoT2LWzOr8wtCePvKjx/NcUMCAvPaTlXCr1uvRWbUceeVHm+a/QGVAmqxxf8IVy\\\nrAbXNCHkkUdeEDlQ6AwIyIRN59im1qqbq8fqeKY0lDzyoszzXyE2IKf0MFPvdKfwOnHkkUeeXwqx\\\nAalnaqCsLm9KWa397O4I6qSQR15Uef4qpAYknBsB0Kea1rr8kfPrJEAeeeQFotAZkEAmLNZ0024C\\\ndJOlc3enIJNHXrR5bm2ukAqdAQFA7o+FC+XdlFqa6nR3BbWMPPLIC0KhNKAiY/BNcnv3sB6raSp5\\\n5JHnt0JpQPpfjLOakl2ZLrg6x9e1J4+8qPP8VegMaPSJ1fTManc3MKWkapmTuZFHXjR5QTyEhc6A\\\nAGsG5PZu4FSnG0vXlzzyyPNTITWgjAoVILfBJo888vxU6AxIwPr3gLw+q5rSTrfBJo+86PL4CJZW\\\nbgbkJSx2E+Jmwsgjjzw/FWIDsi626VpIeAuiU3vyyCPPb4XYgHQBUt1fDZ46EV4X7cgjjzw/5cmA\\\nWlpa8Pzzz6OsrAxvvvkmAGDLli24cOECAGBkZAQf+chHkEql0N/fjyVLlqCmpgYAsGrVKhw6dMgV\\\nx5xkOrm/2s7U3lRHHnnk+akJb83829/+Nnu8Z88ezJo1K3u+YMECpFIpTxckAIi8oKhB1R2rQbeT\\\n3bjkkRdNntvWhZQnA1q9ejX6+/u1dVJKHD16FH/84x8nfFH5vwtmdXCTs5vCZ0pTheWdPPLIC0IF\\\nWwN67bXXUF5ejoULF2bL+vr6cP/992PmzJnYv38/HnzwQVdj6bflsZ7rgjWe9FJXTh55UeX5r4IZ\\\nUEdHB7Zt25Y9r6iowNtvv405c+bg7NmzePjhh3H+/HnMnDkzr28ymUQymQQA/F96a2Z7uQ2gqZ16\\\nVyGPPPKCUEEM6Pbt2/jd736Hs2fPZstKS0tRWloKAFi+fDkWLFiAixcvoqGhIa+/dWvmeG1t2oCc\\\n3NoaNLs0VTeWrh955EWbF/o1IJP+8Ic/YPHixaisrMyWXb16FbNnz0ZxcTEuXbqEnp4eVFdXuxpv\\\nNBBqoNUgmo7dnLsZgzzyosbzX572ht+2bRs+8YlP4MKFC6isrMSRI0cAAJ2dnTmPXwBw+vRpJBIJ\\\n1NfX44tf/CIOHTqE2bNnu+II7UsaytW9r8fbhjzyos0LQp4yoI6ODm35008/nVe2adMmbNq0aVwX\\\nle+Kanjs3N7aR01pdXWmvuSRR95kK3Q/CT3mxnYBcyO7Z2BdGXnkRZsXRBYUOgMCMgakC7LdpNhN\\\nom4sN8/F5JEXVZ4/CrEBZY7s0ku1zqm9GzJ55JHnl0JqQON9JnXbxzo5wlJGHnlR5vmvkBpQ5l+7\\\nAFoDZko1TefWPpngk0ceeX4rdAaUCbW7YJvaSEs76TCW2oc88qLJ4yJ0WkWOE6K6ua7MbmK9PhuT\\\nR16UeP4plAYkjGdug+Rlwuzo5JEXdd7kagoYkJf0VPesazfWeJ+FySNvOvL8V+gMaGwNKHMmLSW6\\\ngNmlqrr21kkxTTh55EWPxzWgtMYC4eU5WB1B9wxsOiePPPKCUCgNyNNvyHpOUycaaPLII69QCqUB\\\n5aeCpmdaaM518hpk8sgjzw+FzoBy14Dc9tA9K0NTbm0/3rSTPPKmJ49rQGnZ/yqGGkypKXeTcmYm\\\nWS0nj7yo8vxXSA3IlGLaTYI6Ybr+apldHXnkRY3nv0JqQBlJpdQuhVTbW8/t2ujak0ceeX4odAYk\\\nABQZF9d0KambADqlr7o25JEXLR7XgNISxiCOx63t7hROY5JHXtR4/iqkBqQe6VJH3XOuRH6Avdwp\\\nyCOPPD8VUgMyub8poID9HcMuuG7SXPLIiwrPX4XUgIBcp9YFWOb1yD1Xg2wdS12EU+8e5JEXVZ6/\\\nElLK8NghgI997GO45557cO+99wZ9KZOiq1evTtvPBvDzTWX19/fj2rVrvjJDZ0AA0NDQgDNnzgR9\\\nGZOi6fzZAH4+ypu8/d4nRVFUAUUDoigqMBXv27dvX9AXodPy5cuDvoRJ03T+bAA/H+VeoVwDoigq\\\nGuIjGEVRgSlUBnTixAnU1NQgHo+jra0t6MspiKqqqrBs2TLU19ejoaEBAHD9+nU0NjZi4cKFaGxs\\\nxPDwcMBX6V4tLS0oKytDXV1dtsz0eaSUeOyxxxCPx5FIJHDu3LmgLtu1dJ9v3759iMViqK+vR319\\\nPY4fP56ta21tRTweR01NDV566aUgLnlqS4ZEt2/fltXV1bK3t1feunVLJhIJef78+aAva8KaP3++\\\nvHr1ak7Z448/LltbW6WUUra2tsonnngiiEsbl1599VV59uxZuXTp0myZ6fO88MIL8qGHHpIffPCB\\\n/Mtf/iJXrlwZyDV7ke7zfVmdrUsAAAMLSURBVPe735U//vGP89qeP39eJhIJ+e9//1teunRJVldX\\\ny9u3b/t5uVNeocmAuru7EY/HUV1djbvuugtbt25FV1dX0Jc1Kerq6kJzczMAoLm5Gc8991zAV+Re\\\nq1evxuzZs3PKTJ+nq6sL27dvhxACq1atwsjICAYHB32/Zi/SfT6Turq6sHXrVpSWluK+++5DPB5H\\\nd3f3JF/h9FJoDGhgYADz5s3LnldWVmJgYCDAKyqMhBBYu3Ytli9fjmQyCQAYGhpCRUUFAGDu3LkY\\\nGhoK8hInLNPnmU5zeuDAASQSCbS0tGQfMafT5wtKoTGg6arXX38d586dw4svvoiDBw/i9OnTOfVC\\\nCAgRzJ9CmAxNt88DALt27UJvby9SqRQqKiqwZ8+eoC9p2ig0BhSLxXD58uXs+ZUrVxCLxQK8osIo\\\n8xnKysqwceNGdHd3o7y8PPsoMjg4iLKysiAvccIyfZ7pMqfl5eUoLi5GUVERduzYkX3Mmi6fL0iF\\\nxoBWrFiBnp4e9PX14f3330dnZyeampqCvqwJ6ebNm7hx40b2+OWXX0ZdXR2amprQ3t4OAGhvb8eG\\\nDRuCvMwJy/R5mpqa8Mwzz0BKiTfeeAOzZs3KPqpNJVnXrY4dO5b9hqypqQmdnZ24desW+vr60NPT\\\ng5UrVwZ1mVNTQa+CW/XCCy/IhQsXyurqarl///6gL2fC6u3tlYlEQiYSCVlbW5v9TNeuXZOf+cxn\\\nZDwel2vWrJHvvvtuwFfqXlu3bpVz586VJSUlMhaLyV/84hfGz/PBBx/Ib3zjG7K6ulrW1dXJv/71\\\nrwFfvbN0n+8rX/mKrKurk8uWLZOf//zn5TvvvJNtv3//flldXS0XLVokjx8/HuCVT03xJ6EpigpM\\\noXkEoygqeqIBURQVmGhAFEUFJhoQRVGBiQZEUVRgogFRFBWYaEAURQUmGhBFUYGJBkRRVGCiAVEU\\\nFZhoQBRFBSYaEEVRgYkGRFFUYKIBURQVmGhAFEUFJhoQRVGBiQZEUVRgogFRFBWYaEAURQUmGhBF\\\nUYHp/wG7CJ+ipCJK2QAAAABJRU5ErkJggg==\\\n\"\n  frames[6] = \"data:image/png;base64,iVBORw0KGgoAAAANSUhEUgAAASAAAAEgCAYAAAAUg66AAAAABHNCSVQICAgIfAhkiAAAAAlwSFlz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\\\nIABmCCAAZgggAGb+HzEpGoiuYoNYAAAAAElFTkSuQmCC\\\n\"\n  frames[7] = \"data:image/png;base64,iVBORw0KGgoAAAANSUhEUgAAASAAAAEgCAYAAAAUg66AAAAABHNCSVQICAgIfAhkiAAAAAlwSFlz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\\\nzBBAAMz8P0ziMpRfLBRIAAAAAElFTkSuQmCC\\\n\"\n  frames[8] = \"data:image/png;base64,iVBORw0KGgoAAAANSUhEUgAAASAAAAEgCAYAAAAUg66AAAAABHNCSVQICAgIfAhkiAAAAAlwSFlz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\\\nAABJRU5ErkJggg==\\\n\"\n  frames[9] = \"data:image/png;base64,iVBORw0KGgoAAAANSUhEUgAAASAAAAEgCAYAAAAUg66AAAAABHNCSVQICAgIfAhkiAAAAAlwSFlz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\\\n\"\n\n\n    /* set a timeout to make sure all the above elements are created before\n       the object is initialized. */\n    setTimeout(function() {\n        anim7a0a90ad6ea44e7594713433811a5005 = new Animation(frames, img_id, slider_id, 299.0,\n                                 loop_select_id);\n    }, 0);\n  })()\n</script>\n",
                "text/plain": "<matplotlib.animation.FuncAnimation at 0x7fe0c4882518>"
              }
            ],
            "_view_module": "@jupyter-widgets/output",
            "_model_module_version": "1.0.0",
            "_view_count": null,
            "_view_module_version": "1.0.0",
            "layout": "IPY_MODEL_01b5c6467f8641a1ab12e4dfd5759c47",
            "_model_module": "@jupyter-widgets/output"
          }
        },
        "254d2a2fb6e240e6ad7cb7b0e3f8b9f6": {
          "model_module": "@jupyter-widgets/controls",
          "model_name": "SliderStyleModel",
          "state": {
            "_view_name": "StyleView",
            "handle_color": null,
            "_model_name": "SliderStyleModel",
            "description_width": "",
            "_view_module": "@jupyter-widgets/base",
            "_model_module_version": "1.5.0",
            "_view_count": null,
            "_view_module_version": "1.2.0",
            "_model_module": "@jupyter-widgets/controls"
          }
        },
        "11a613847c1749849da3c6845375f1b6": {
          "model_module": "@jupyter-widgets/base",
          "model_name": "LayoutModel",
          "state": {
            "_view_name": "LayoutView",
            "grid_template_rows": null,
            "right": null,
            "justify_content": null,
            "_view_module": "@jupyter-widgets/base",
            "overflow": null,
            "_model_module_version": "1.2.0",
            "_view_count": null,
            "flex_flow": null,
            "width": null,
            "min_width": null,
            "border": null,
            "align_items": null,
            "bottom": null,
            "_model_module": "@jupyter-widgets/base",
            "top": null,
            "grid_column": null,
            "overflow_y": null,
            "overflow_x": null,
            "grid_auto_flow": null,
            "grid_area": null,
            "grid_template_columns": null,
            "flex": null,
            "_model_name": "LayoutModel",
            "justify_items": null,
            "grid_row": null,
            "max_height": null,
            "align_content": null,
            "visibility": null,
            "align_self": null,
            "height": null,
            "min_height": null,
            "padding": null,
            "grid_auto_rows": null,
            "grid_gap": null,
            "max_width": null,
            "order": null,
            "_view_module_version": "1.2.0",
            "grid_template_areas": null,
            "object_position": null,
            "object_fit": null,
            "grid_auto_columns": null,
            "margin": null,
            "display": null,
            "left": null
          }
        },
        "8471a911851d4579b468f92a6ba74918": {
          "model_module": "@jupyter-widgets/controls",
          "model_name": "SliderStyleModel",
          "state": {
            "_view_name": "StyleView",
            "handle_color": null,
            "_model_name": "SliderStyleModel",
            "description_width": "",
            "_view_module": "@jupyter-widgets/base",
            "_model_module_version": "1.5.0",
            "_view_count": null,
            "_view_module_version": "1.2.0",
            "_model_module": "@jupyter-widgets/controls"
          }
        },
        "7733f32e0bce4a3698361c871895ad1a": {
          "model_module": "@jupyter-widgets/base",
          "model_name": "LayoutModel",
          "state": {
            "_view_name": "LayoutView",
            "grid_template_rows": null,
            "right": null,
            "justify_content": null,
            "_view_module": "@jupyter-widgets/base",
            "overflow": null,
            "_model_module_version": "1.2.0",
            "_view_count": null,
            "flex_flow": null,
            "width": null,
            "min_width": null,
            "border": null,
            "align_items": null,
            "bottom": null,
            "_model_module": "@jupyter-widgets/base",
            "top": null,
            "grid_column": null,
            "overflow_y": null,
            "overflow_x": null,
            "grid_auto_flow": null,
            "grid_area": null,
            "grid_template_columns": null,
            "flex": null,
            "_model_name": "LayoutModel",
            "justify_items": null,
            "grid_row": null,
            "max_height": null,
            "align_content": null,
            "visibility": null,
            "align_self": null,
            "height": null,
            "min_height": null,
            "padding": null,
            "grid_auto_rows": null,
            "grid_gap": null,
            "max_width": null,
            "order": null,
            "_view_module_version": "1.2.0",
            "grid_template_areas": null,
            "object_position": null,
            "object_fit": null,
            "grid_auto_columns": null,
            "margin": null,
            "display": null,
            "left": null
          }
        },
        "2659349f9c8f4af08810cdbed5897acf": {
          "model_module": "@jupyter-widgets/controls",
          "model_name": "SliderStyleModel",
          "state": {
            "_view_name": "StyleView",
            "handle_color": null,
            "_model_name": "SliderStyleModel",
            "description_width": "",
            "_view_module": "@jupyter-widgets/base",
            "_model_module_version": "1.5.0",
            "_view_count": null,
            "_view_module_version": "1.2.0",
            "_model_module": "@jupyter-widgets/controls"
          }
        },
        "c7a00adfb1fe4c738d02fec69a6a5781": {
          "model_module": "@jupyter-widgets/base",
          "model_name": "LayoutModel",
          "state": {
            "_view_name": "LayoutView",
            "grid_template_rows": null,
            "right": null,
            "justify_content": null,
            "_view_module": "@jupyter-widgets/base",
            "overflow": null,
            "_model_module_version": "1.2.0",
            "_view_count": null,
            "flex_flow": null,
            "width": null,
            "min_width": null,
            "border": null,
            "align_items": null,
            "bottom": null,
            "_model_module": "@jupyter-widgets/base",
            "top": null,
            "grid_column": null,
            "overflow_y": null,
            "overflow_x": null,
            "grid_auto_flow": null,
            "grid_area": null,
            "grid_template_columns": null,
            "flex": null,
            "_model_name": "LayoutModel",
            "justify_items": null,
            "grid_row": null,
            "max_height": null,
            "align_content": null,
            "visibility": null,
            "align_self": null,
            "height": null,
            "min_height": null,
            "padding": null,
            "grid_auto_rows": null,
            "grid_gap": null,
            "max_width": null,
            "order": null,
            "_view_module_version": "1.2.0",
            "grid_template_areas": null,
            "object_position": null,
            "object_fit": null,
            "grid_auto_columns": null,
            "margin": null,
            "display": null,
            "left": null
          }
        },
        "a3f32edbcbfe48eb9cf9a27667df2ee2": {
          "model_module": "@jupyter-widgets/controls",
          "model_name": "ButtonStyleModel",
          "state": {
            "_view_name": "StyleView",
            "_model_name": "ButtonStyleModel",
            "_view_module": "@jupyter-widgets/base",
            "_model_module_version": "1.5.0",
            "_view_count": null,
            "button_color": null,
            "font_weight": "",
            "_view_module_version": "1.2.0",
            "_model_module": "@jupyter-widgets/controls"
          }
        },
        "a244078f2fe8441c9315dd335e306c5a": {
          "model_module": "@jupyter-widgets/base",
          "model_name": "LayoutModel",
          "state": {
            "_view_name": "LayoutView",
            "grid_template_rows": null,
            "right": null,
            "justify_content": null,
            "_view_module": "@jupyter-widgets/base",
            "overflow": null,
            "_model_module_version": "1.2.0",
            "_view_count": null,
            "flex_flow": null,
            "width": null,
            "min_width": null,
            "border": null,
            "align_items": null,
            "bottom": null,
            "_model_module": "@jupyter-widgets/base",
            "top": null,
            "grid_column": null,
            "overflow_y": null,
            "overflow_x": null,
            "grid_auto_flow": null,
            "grid_area": null,
            "grid_template_columns": null,
            "flex": null,
            "_model_name": "LayoutModel",
            "justify_items": null,
            "grid_row": null,
            "max_height": null,
            "align_content": null,
            "visibility": null,
            "align_self": null,
            "height": null,
            "min_height": null,
            "padding": null,
            "grid_auto_rows": null,
            "grid_gap": null,
            "max_width": null,
            "order": null,
            "_view_module_version": "1.2.0",
            "grid_template_areas": null,
            "object_position": null,
            "object_fit": null,
            "grid_auto_columns": null,
            "margin": null,
            "display": null,
            "left": null
          }
        },
        "01b5c6467f8641a1ab12e4dfd5759c47": {
          "model_module": "@jupyter-widgets/base",
          "model_name": "LayoutModel",
          "state": {
            "_view_name": "LayoutView",
            "grid_template_rows": null,
            "right": null,
            "justify_content": null,
            "_view_module": "@jupyter-widgets/base",
            "overflow": null,
            "_model_module_version": "1.2.0",
            "_view_count": null,
            "flex_flow": null,
            "width": null,
            "min_width": null,
            "border": null,
            "align_items": null,
            "bottom": null,
            "_model_module": "@jupyter-widgets/base",
            "top": null,
            "grid_column": null,
            "overflow_y": null,
            "overflow_x": null,
            "grid_auto_flow": null,
            "grid_area": null,
            "grid_template_columns": null,
            "flex": null,
            "_model_name": "LayoutModel",
            "justify_items": null,
            "grid_row": null,
            "max_height": null,
            "align_content": null,
            "visibility": null,
            "align_self": null,
            "height": null,
            "min_height": null,
            "padding": null,
            "grid_auto_rows": null,
            "grid_gap": null,
            "max_width": null,
            "order": null,
            "_view_module_version": "1.2.0",
            "grid_template_areas": null,
            "object_position": null,
            "object_fit": null,
            "grid_auto_columns": null,
            "margin": null,
            "display": null,
            "left": null
          }
        }
      }
    }
  },
  "cells": [
    {
      "cell_type": "markdown",
      "metadata": {
        "id": "view-in-github",
        "colab_type": "text"
      },
      "source": [
        "<a href=\"https://colab.research.google.com/github/danadler-dev/mesa_examples/blob/main/mesa_tutorial_grid.ipynb\" target=\"_parent\"><img src=\"https://colab.research.google.com/assets/colab-badge.svg\" alt=\"Open In Colab\"/></a>"
      ]
    },
    {
      "cell_type": "markdown",
      "metadata": {
        "id": "_Sny8gHl1IN8"
      },
      "source": [
        "Simple model updating in a grid - based on [Mesa Tutorial](https://mesa.readthedocs.io/en/stable/tutorials/intro_tutorial.html)"
      ]
    },
    {
      "cell_type": "code",
      "metadata": {
        "id": "vXxUef0MoUFP"
      },
      "source": [
        "!pip install mesa"
      ],
      "execution_count": null,
      "outputs": []
    },
    {
      "cell_type": "code",
      "metadata": {
        "id": "NxcwiEwPogGD"
      },
      "source": [
        "import numpy as np\n",
        "from mesa import Agent, Model\n",
        "from mesa.space import SingleGrid\n",
        "from mesa.time import RandomActivation\n",
        "import matplotlib.pyplot as plt\n",
        "from ipywidgets import interact, interact_manual, IntSlider\n",
        "from matplotlib import animation, rc\n",
        "from IPython.display import HTML\n",
        "from operator import mod "
      ],
      "execution_count": 2,
      "outputs": []
    },
    {
      "cell_type": "markdown",
      "metadata": {
        "id": "837hDJbGgVJM"
      },
      "source": [
        "Model and Agent based on NxM grid. At each step the agents add an increment to their color"
      ]
    },
    {
      "cell_type": "code",
      "metadata": {
        "id": "cX0wPKo4gPRV"
      },
      "source": [
        "class ColorModel(Model):\n",
        "  def __init__(self, X, Y):\n",
        "    self.grid = SingleGrid(X, Y, True)\n",
        "    self.schedule = RandomActivation(self)\n",
        "    for x in range(X):\n",
        "      for y in range(Y):\n",
        "        a = ColorAgent(self, (x,y), (x/X, y/Y, 0))\n",
        "        self.grid.place_agent(a, (x, y))\n",
        "        self.schedule.add(a)\n",
        "  def step(self):\n",
        "    self.schedule.step()\n",
        "      \n",
        "class ColorAgent(Agent):\n",
        "  def __init__(self, model, n, color):\n",
        "    super().__init__(n, model)\n",
        "    self.color = color\n",
        "  def step(self):\n",
        "    self.color = tuple((i+0.1)%1.0 for i in self.color)"
      ],
      "execution_count": 3,
      "outputs": []
    },
    {
      "cell_type": "markdown",
      "metadata": {
        "id": "CMlTr3z7glvt"
      },
      "source": [
        "Use the [@interact](https://ipywidgets.readthedocs.io/en/stable/examples/Using%20Interact.html) decorator to define X, Y and steps. Then run the model forward that many steps - showing the image at the **end** of the run"
      ]
    },
    {
      "cell_type": "code",
      "metadata": {
        "id": "8zVhHhbE18j_",
        "colab": {
          "base_uri": "https://localhost:8080/",
          "height": 365,
          "referenced_widgets": [
            "fac4f45d454d481493a415a6f135591a",
            "ca9f50011ccb49e795c9340514b252dd",
            "cde7506a27894288a2e84a5ba23cd74f",
            "6d5a928de46f4ca7adf3ad22aa61ce91",
            "396f1f883298490582d41c810482ad2c",
            "f22d614723ad4ad78880ce060a21416e",
            "30b113862f3548c8bef12114e5fa93b9",
            "13155ebbf708406198e7adfa8dde2150",
            "2267bb869c67446eb4614854b1ea83a9",
            "7fd6536171ed4c50b9d8cdf1787643e7",
            "fd6e1557aeb64b5d81b8691266d5e470",
            "13c6b035bc1f4af4a9c4e843054e3c41",
            "7122ce784c834102b255012c4443dbc2"
          ]
        },
        "outputId": "28de5bc6-2e63-4ff3-b2e9-59f84d219913"
      },
      "source": [
        "@interact(X=(0, 500, 50), Y=(0, 500, 50), steps=(0, 100, 5))\n",
        "def run(X=200, Y=200, steps=10):\n",
        "  model = ColorModel(X, Y)\n",
        "  im = np.zeros((model.grid.width, model.grid.height,3), dtype=float)\n",
        "  fig, ax = plt.subplots(figsize=(X/50, Y/50))\n",
        "  for i in range(steps):\n",
        "    model.step()\n",
        "    for agent, x, y in model.grid.coord_iter():\n",
        "      im[x,y] = agent.color\n",
        "  ax.imshow(im, aspect='auto')\n"
      ],
      "execution_count": 4,
      "outputs": [
        {
          "output_type": "display_data",
          "data": {
            "application/vnd.jupyter.widget-view+json": {
              "model_id": "fac4f45d454d481493a415a6f135591a",
              "version_minor": 0,
              "version_major": 2
            },
            "text/plain": [
              "interactive(children=(IntSlider(value=200, description='X', max=500, step=50), IntSlider(value=200, descriptio…"
            ]
          },
          "metadata": {
            "tags": []
          }
        }
      ]
    },
    {
      "cell_type": "markdown",
      "metadata": {
        "id": "sia3jS9mtAJv"
      },
      "source": [
        "To show the image interactively during each step, we use [@interact_manual](https://ipywidgets.readthedocs.io/en/stable/examples/Using%20Interact.html#interact_manual) to set the parameters and start the run. Then, we use [animation.FuncAnimation](https://colab.research.google.com/drive/1lnl5UPFWVPrryaZZgEzd0theI6S94c3X) to run the model forward and show the image at each step."
      ]
    },
    {
      "cell_type": "code",
      "metadata": {
        "colab": {
          "base_uri": "https://localhost:8080/",
          "height": 513,
          "referenced_widgets": [
            "05e76cc4dfb846ec85f3a9da06e0ca56",
            "35593c7c241547b3b18e6c47f7b54cca",
            "27a663c1adce4d9c9e01fd776c3b8a50",
            "683820272f114955835e26503d633cca",
            "ee65fabbd22a4248a8a9f29bd3725500",
            "1afdf346349b40da86c6174bb5d64ae8",
            "d2cb8d9b54cd49899868c5647ecc1a5d",
            "254d2a2fb6e240e6ad7cb7b0e3f8b9f6",
            "11a613847c1749849da3c6845375f1b6",
            "8471a911851d4579b468f92a6ba74918",
            "7733f32e0bce4a3698361c871895ad1a",
            "2659349f9c8f4af08810cdbed5897acf",
            "c7a00adfb1fe4c738d02fec69a6a5781",
            "a3f32edbcbfe48eb9cf9a27667df2ee2",
            "a244078f2fe8441c9315dd335e306c5a",
            "01b5c6467f8641a1ab12e4dfd5759c47"
          ]
        },
        "id": "HwHNaPDnPmg3",
        "outputId": "8bc4b9db-40ed-4bb5-ab1a-e3f1cf1b5374"
      },
      "source": [
        "@interact_manual(X=(0, 500, 50), Y=(0, 500, 50), steps=(0, 100, 5))\n",
        "def run(X=200, Y=200, steps=10):\n",
        "  model = ColorModel(X, Y)\n",
        "  im = np.zeros((model.grid.width, model.grid.height,3), dtype=float)\n",
        "  fig, ax = plt.subplots(figsize=(X/50, Y/50))\n",
        "\n",
        "  # animation function. This is called sequentially  \n",
        "  def animate(i):\n",
        "    model.step()\n",
        "    for agent, x, y in model.grid.coord_iter():\n",
        "      im[x,y] = agent.color\n",
        "    ax.imshow(im, aspect='auto')\n",
        "    return (fig,)\n",
        "    \n",
        "  anim = animation.FuncAnimation(fig, animate, frames=steps, interval=300, blit=True)\n",
        "  plt.close()\n",
        "  rc('animation', html='jshtml')\n",
        "  return anim\n"
      ],
      "execution_count": 5,
      "outputs": [
        {
          "output_type": "display_data",
          "data": {
            "application/vnd.jupyter.widget-view+json": {
              "model_id": "05e76cc4dfb846ec85f3a9da06e0ca56",
              "version_minor": 0,
              "version_major": 2
            },
            "text/plain": [
              "interactive(children=(IntSlider(value=200, description='X', max=500, step=50), IntSlider(value=200, descriptio…"
            ]
          },
          "metadata": {
            "tags": []
          }
        }
      ]
    }
  ]
}