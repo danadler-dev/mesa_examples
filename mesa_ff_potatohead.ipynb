{
  "nbformat": 4,
  "nbformat_minor": 0,
  "metadata": {
    "colab": {
      "name": "mesa_ff_potatohead.ipynb",
      "provenance": [],
      "collapsed_sections": [],
      "include_colab_link": true
    },
    "kernelspec": {
      "name": "python3",
      "display_name": "Python 3"
    },
    "widgets": {
      "application/vnd.jupyter.widget-state+json": {
        "e20b4b7dfa974c6285ed317fd1c80b7e": {
          "model_module": "@jupyter-widgets/controls",
          "model_name": "VBoxModel",
          "state": {
            "_view_name": "VBoxView",
            "_dom_classes": [
              "widget-interact"
            ],
            "_model_name": "VBoxModel",
            "_view_module": "@jupyter-widgets/controls",
            "_model_module_version": "1.5.0",
            "_view_count": null,
            "_view_module_version": "1.5.0",
            "box_style": "",
            "layout": "IPY_MODEL_cf024a30b4264a199063a7048261974d",
            "_model_module": "@jupyter-widgets/controls",
            "children": [
              "IPY_MODEL_dd56e0f3e83243438308a80dd51b1be9",
              "IPY_MODEL_336375fdbbf741b29716d7564ba1cec8",
              "IPY_MODEL_313a76800cf344209ae587e2a382fdf7",
              "IPY_MODEL_c238c8378cf6433795660ac11f602a0c"
            ]
          }
        },
        "cf024a30b4264a199063a7048261974d": {
          "model_module": "@jupyter-widgets/base",
          "model_name": "LayoutModel",
          "state": {
            "_view_name": "LayoutView",
            "grid_template_rows": null,
            "right": null,
            "justify_content": null,
            "_view_module": "@jupyter-widgets/base",
            "overflow": null,
            "_model_module_version": "1.2.0",
            "_view_count": null,
            "flex_flow": null,
            "width": null,
            "min_width": null,
            "border": null,
            "align_items": null,
            "bottom": null,
            "_model_module": "@jupyter-widgets/base",
            "top": null,
            "grid_column": null,
            "overflow_y": null,
            "overflow_x": null,
            "grid_auto_flow": null,
            "grid_area": null,
            "grid_template_columns": null,
            "flex": null,
            "_model_name": "LayoutModel",
            "justify_items": null,
            "grid_row": null,
            "max_height": null,
            "align_content": null,
            "visibility": null,
            "align_self": null,
            "height": null,
            "min_height": null,
            "padding": null,
            "grid_auto_rows": null,
            "grid_gap": null,
            "max_width": null,
            "order": null,
            "_view_module_version": "1.2.0",
            "grid_template_areas": null,
            "object_position": null,
            "object_fit": null,
            "grid_auto_columns": null,
            "margin": null,
            "display": null,
            "left": null
          }
        },
        "dd56e0f3e83243438308a80dd51b1be9": {
          "model_module": "@jupyter-widgets/controls",
          "model_name": "IntSliderModel",
          "state": {
            "_view_name": "IntSliderView",
            "style": "IPY_MODEL_40a585e860644d349fdfbaa657cd24af",
            "_dom_classes": [],
            "description": "N1",
            "step": 50,
            "_model_name": "IntSliderModel",
            "orientation": "horizontal",
            "max": 500,
            "_view_module": "@jupyter-widgets/controls",
            "_model_module_version": "1.5.0",
            "value": 100,
            "_view_count": null,
            "disabled": false,
            "_view_module_version": "1.5.0",
            "min": 0,
            "continuous_update": true,
            "readout_format": "d",
            "description_tooltip": null,
            "readout": true,
            "_model_module": "@jupyter-widgets/controls",
            "layout": "IPY_MODEL_7fd0070f919a415196e92259c94284c8"
          }
        },
        "336375fdbbf741b29716d7564ba1cec8": {
          "model_module": "@jupyter-widgets/controls",
          "model_name": "IntSliderModel",
          "state": {
            "_view_name": "IntSliderView",
            "style": "IPY_MODEL_ef726d890e9e4733a18d16d3c884eedf",
            "_dom_classes": [],
            "description": "N2",
            "step": 50,
            "_model_name": "IntSliderModel",
            "orientation": "horizontal",
            "max": 500,
            "_view_module": "@jupyter-widgets/controls",
            "_model_module_version": "1.5.0",
            "value": 300,
            "_view_count": null,
            "disabled": false,
            "_view_module_version": "1.5.0",
            "min": 0,
            "continuous_update": true,
            "readout_format": "d",
            "description_tooltip": null,
            "readout": true,
            "_model_module": "@jupyter-widgets/controls",
            "layout": "IPY_MODEL_ee693bf59fee4b5bb385f0af79412e7f"
          }
        },
        "313a76800cf344209ae587e2a382fdf7": {
          "model_module": "@jupyter-widgets/controls",
          "model_name": "DropdownModel",
          "state": {
            "_options_labels": [
              "French Flag",
              "Mr. Potato Head"
            ],
            "_view_name": "DropdownView",
            "style": "IPY_MODEL_b07d491ac2ee43b29b7ebe5194b5a17b",
            "_dom_classes": [],
            "description": "M",
            "_model_name": "DropdownModel",
            "index": 1,
            "_view_module": "@jupyter-widgets/controls",
            "_model_module_version": "1.5.0",
            "_view_count": null,
            "disabled": false,
            "_view_module_version": "1.5.0",
            "description_tooltip": null,
            "_model_module": "@jupyter-widgets/controls",
            "layout": "IPY_MODEL_3fc8dbb3a58c4d64ab5a251320545e58"
          }
        },
        "c238c8378cf6433795660ac11f602a0c": {
          "model_module": "@jupyter-widgets/output",
          "model_name": "OutputModel",
          "state": {
            "_view_name": "OutputView",
            "msg_id": "",
            "_dom_classes": [],
            "_model_name": "OutputModel",
            "outputs": [
              {
                "output_type": "display_data",
                "metadata": {
                  "tags": []
                },
                "text/html": "\n<link rel=\"stylesheet\"\nhref=\"https://maxcdn.bootstrapcdn.com/font-awesome/4.4.0/\ncss/font-awesome.min.css\">\n<script language=\"javascript\">\n  function isInternetExplorer() {\n    ua = navigator.userAgent;\n    /* MSIE used to detect old browsers and Trident used to newer ones*/\n    return ua.indexOf(\"MSIE \") > -1 || ua.indexOf(\"Trident/\") > -1;\n  }\n\n  /* Define the Animation class */\n  function Animation(frames, img_id, slider_id, interval, loop_select_id){\n    this.img_id = img_id;\n    this.slider_id = slider_id;\n    this.loop_select_id = loop_select_id;\n    this.interval = interval;\n    this.current_frame = 0;\n    this.direction = 0;\n    this.timer = null;\n    this.frames = new Array(frames.length);\n\n    for (var i=0; i<frames.length; i++)\n    {\n     this.frames[i] = new Image();\n     this.frames[i].src = frames[i];\n    }\n    var slider = document.getElementById(this.slider_id);\n    slider.max = this.frames.length - 1;\n    if (isInternetExplorer()) {\n        // switch from oninput to onchange because IE <= 11 does not conform\n        // with W3C specification. It ignores oninput and onchange behaves\n        // like oninput. In contrast, Mircosoft Edge behaves correctly.\n        slider.setAttribute('onchange', slider.getAttribute('oninput'));\n        slider.setAttribute('oninput', null);\n    }\n    this.set_frame(this.current_frame);\n  }\n\n  Animation.prototype.get_loop_state = function(){\n    var button_group = document[this.loop_select_id].state;\n    for (var i = 0; i < button_group.length; i++) {\n        var button = button_group[i];\n        if (button.checked) {\n            return button.value;\n        }\n    }\n    return undefined;\n  }\n\n  Animation.prototype.set_frame = function(frame){\n    this.current_frame = frame;\n    document.getElementById(this.img_id).src =\n            this.frames[this.current_frame].src;\n    document.getElementById(this.slider_id).value = this.current_frame;\n  }\n\n  Animation.prototype.next_frame = function()\n  {\n    this.set_frame(Math.min(this.frames.length - 1, this.current_frame + 1));\n  }\n\n  Animation.prototype.previous_frame = function()\n  {\n    this.set_frame(Math.max(0, this.current_frame - 1));\n  }\n\n  Animation.prototype.first_frame = function()\n  {\n    this.set_frame(0);\n  }\n\n  Animation.prototype.last_frame = function()\n  {\n    this.set_frame(this.frames.length - 1);\n  }\n\n  Animation.prototype.slower = function()\n  {\n    this.interval /= 0.7;\n    if(this.direction > 0){this.play_animation();}\n    else if(this.direction < 0){this.reverse_animation();}\n  }\n\n  Animation.prototype.faster = function()\n  {\n    this.interval *= 0.7;\n    if(this.direction > 0){this.play_animation();}\n    else if(this.direction < 0){this.reverse_animation();}\n  }\n\n  Animation.prototype.anim_step_forward = function()\n  {\n    this.current_frame += 1;\n    if(this.current_frame < this.frames.length){\n      this.set_frame(this.current_frame);\n    }else{\n      var loop_state = this.get_loop_state();\n      if(loop_state == \"loop\"){\n        this.first_frame();\n      }else if(loop_state == \"reflect\"){\n        this.last_frame();\n        this.reverse_animation();\n      }else{\n        this.pause_animation();\n        this.last_frame();\n      }\n    }\n  }\n\n  Animation.prototype.anim_step_reverse = function()\n  {\n    this.current_frame -= 1;\n    if(this.current_frame >= 0){\n      this.set_frame(this.current_frame);\n    }else{\n      var loop_state = this.get_loop_state();\n      if(loop_state == \"loop\"){\n        this.last_frame();\n      }else if(loop_state == \"reflect\"){\n        this.first_frame();\n        this.play_animation();\n      }else{\n        this.pause_animation();\n        this.first_frame();\n      }\n    }\n  }\n\n  Animation.prototype.pause_animation = function()\n  {\n    this.direction = 0;\n    if (this.timer){\n      clearInterval(this.timer);\n      this.timer = null;\n    }\n  }\n\n  Animation.prototype.play_animation = function()\n  {\n    this.pause_animation();\n    this.direction = 1;\n    var t = this;\n    if (!this.timer) this.timer = setInterval(function() {\n        t.anim_step_forward();\n    }, this.interval);\n  }\n\n  Animation.prototype.reverse_animation = function()\n  {\n    this.pause_animation();\n    this.direction = -1;\n    var t = this;\n    if (!this.timer) this.timer = setInterval(function() {\n        t.anim_step_reverse();\n    }, this.interval);\n  }\n</script>\n\n<style>\n.animation {\n    display: inline-block;\n    text-align: center;\n}\ninput[type=range].anim-slider {\n    width: 374px;\n    margin-left: auto;\n    margin-right: auto;\n}\n.anim-buttons {\n    margin: 8px 0px;\n}\n.anim-buttons button {\n    padding: 0;\n    width: 36px;\n}\n.anim-state label {\n    margin-right: 8px;\n}\n.anim-state input {\n    margin: 0;\n    vertical-align: middle;\n}\n</style>\n\n<div class=\"animation\">\n  <img id=\"_anim_img75778df642fd42c594a1a623dd9c55b0\">\n  <div class=\"anim-controls\">\n    <input id=\"_anim_slider75778df642fd42c594a1a623dd9c55b0\" type=\"range\" class=\"anim-slider\"\n           name=\"points\" min=\"0\" max=\"1\" step=\"1\" value=\"0\"\n           oninput=\"anim75778df642fd42c594a1a623dd9c55b0.set_frame(parseInt(this.value));\"></input>\n    <div class=\"anim-buttons\">\n      <button onclick=\"anim75778df642fd42c594a1a623dd9c55b0.slower()\"><i class=\"fa fa-minus\"></i></button>\n      <button onclick=\"anim75778df642fd42c594a1a623dd9c55b0.first_frame()\"><i class=\"fa fa-fast-backward\">\n          </i></button>\n      <button onclick=\"anim75778df642fd42c594a1a623dd9c55b0.previous_frame()\">\n          <i class=\"fa fa-step-backward\"></i></button>\n      <button onclick=\"anim75778df642fd42c594a1a623dd9c55b0.reverse_animation()\">\n          <i class=\"fa fa-play fa-flip-horizontal\"></i></button>\n      <button onclick=\"anim75778df642fd42c594a1a623dd9c55b0.pause_animation()\"><i class=\"fa fa-pause\">\n          </i></button>\n      <button onclick=\"anim75778df642fd42c594a1a623dd9c55b0.play_animation()\"><i class=\"fa fa-play\"></i>\n          </button>\n      <button onclick=\"anim75778df642fd42c594a1a623dd9c55b0.next_frame()\"><i class=\"fa fa-step-forward\">\n          </i></button>\n      <button onclick=\"anim75778df642fd42c594a1a623dd9c55b0.last_frame()\"><i class=\"fa fa-fast-forward\">\n          </i></button>\n      <button onclick=\"anim75778df642fd42c594a1a623dd9c55b0.faster()\"><i class=\"fa fa-plus\"></i></button>\n    </div>\n    <form action=\"#n\" name=\"_anim_loop_select75778df642fd42c594a1a623dd9c55b0\" class=\"anim-state\">\n      <input type=\"radio\" name=\"state\" value=\"once\" id=\"_anim_radio1_75778df642fd42c594a1a623dd9c55b0\"\n             >\n      <label for=\"_anim_radio1_75778df642fd42c594a1a623dd9c55b0\">Once</label>\n      <input type=\"radio\" name=\"state\" value=\"loop\" id=\"_anim_radio2_75778df642fd42c594a1a623dd9c55b0\"\n             checked>\n      <label for=\"_anim_radio2_75778df642fd42c594a1a623dd9c55b0\">Loop</label>\n      <input type=\"radio\" name=\"state\" value=\"reflect\" id=\"_anim_radio3_75778df642fd42c594a1a623dd9c55b0\"\n             >\n      <label for=\"_anim_radio3_75778df642fd42c594a1a623dd9c55b0\">Reflect</label>\n    </form>\n  </div>\n</div>\n\n\n<script language=\"javascript\">\n  /* Instantiate the Animation class. */\n  /* The IDs given should match those used in the template above. */\n  (function() {\n    var img_id = \"_anim_img75778df642fd42c594a1a623dd9c55b0\";\n    var slider_id = \"_anim_slider75778df642fd42c594a1a623dd9c55b0\";\n    var loop_select_id = \"_anim_loop_select75778df642fd42c594a1a623dd9c55b0\";\n    var frames = new Array(5);\n    \n  frames[0] = \"data:image/png;base64,iVBORw0KGgoAAAANSUhEUgAAAJAAAACQCAYAAADnRuK4AAAABHNCSVQICAgIfAhkiAAAAAlwSFlz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\\\n\"\n  frames[1] = \"data:image/png;base64,iVBORw0KGgoAAAANSUhEUgAAANgAAADYCAYAAACJIC3tAAAABHNCSVQICAgIfAhkiAAAAAlwSFlz\\\nAAALEgAACxIB0t1+/AAAADh0RVh0U29mdHdhcmUAbWF0cGxvdGxpYiB2ZXJzaW9uMy4yLjIsIGh0\\\ndHA6Ly9tYXRwbG90bGliLm9yZy+WH4yJAAASAklEQVR4nO3de2xUZZ8H8O/ovN7Y2AJpaXd6gTqd\\\n0guD0BbY/YMsdKcSNUPABor6CgJbF7JBMXJJ3sTVRNvCBhUjiWlAGd4EiHGz1NBQqqB4AbYU1Lzw\\\nrmYow9p2upXeNtDa+2//GDo7xbZzaZ+ZM6ffT/Ikzu2c5zz2O2fOzPP8MIiIgIiUuC/SHSDSMwaM\\\nSCEGjEghBoxIIQaMSCEGjEghBoxIIQaMSCEGjEghBoxIIQaMSCEGjEghBoxIIQaMSCEGjEghBoxI\\\nIQaMSCEGjEghBoxIIQaMSCEGjEihCQWsuroaGRkZMJvNKC8vn6w+EemGIdSybYODg7BYLPj888+R\\\nlJSE/Px8HDt2DFlZWZPdR6KoFfIZrLa2FmazGWlpaXjggQdQXFyMysrKyewbUdQLOWBNTU1ITk72\\\n3k5KSkJTU9OkdIpIL4yqd1BRUYGKigoAwOXLl1XvjihkKopchxwwk8mEhoYG7+3GxkaYTKbfPa+k\\\npAQlJSUAAIPBEOruiKKThKi/v1/mzJkjN27ckN7eXrFarXL16tVxXwOAjU2zTYWQz2BGoxEffPAB\\\nnnjiCQwODmLjxo3Izs4OdXNEuhTy1/Qh7YwfEUnDVESBMzmIFGLAiBRiwIgUYsCIFGLAiBRiwIgU\\\nYsCIFGLAiBRiwIgUYsCIFGLAiBRiwIgUYsCIFPIbsIaGBixbtgxZWVnIzs7G/v37AQDt7e2w2WxI\\\nT0+HzWZDR0eH8s4SRRu/y1Wam5vR3NyMhQsX4vbt28jNzcWJEydw+PBhzJgxA7t370Z5eTk6Ojqw\\\nZ8+e8XfG5SqkYUpWbgW7QtNut0tNTY1YLBZxu90iIuJ2u8Visfh9LTSwapWNbaymQlALLm/evIml\\\nS5fi6tWrSElJQWdnJ+DpGaZPn+69PRaewUjLgohCwAIuGXDnzh0888wzeO+99/Doo4+OeMxgMIwZ\\\nHt+qUkRTTiCnub6+PiksLJR9+/Z57+NHRDa9NRX8fosoIti0aRMyMzPx6quveu+32+1wOBwAAIfD\\\ngZUrV/rblGY1Amj105QXkNQRjqcPfwn85ptvBIDMmzdP5s+fL/Pnz5eqqippbW2V5cuXi9lsloKC\\\nAmlra/ObZmjgXQqAzAPkv3zaICAyThsC5Cef5z+tgWPQUtPLeKqgZqtj7UwDg/iPgPynnz8Af+0v\\\ngGzUwLFooelpPFWYMmXb/gXAfABmAP8wCdv7AUAdADeAf52E7UUbPY6nkigoie0YEKF3pn8C5K8T\\\nfJcdq/0PINs18O7L8dTmGUz3AVsNSIOiP4bhdgeQNRH6o+B4ajtguv+I2AEgNgz7GYLnm7GwDWaE\\\n6Hk8VURB17PpUxHeA5wNQM9zVTiewdPtGexReN5tw/0OkgSgGZ53YD2ZCuPJM1iAYgH8L0I4OMPd\\\nFw23EN4PGgFkBP8yTeN4hk6XAQvZGQADPu16ZLsT9TieU2fGyrjaATwM4A8Y+S47G8Bv8FxpPwrP\\\nHwn5x/H00t0ZzALgp0CfbITnl81YAA8BuP+ex++7e/9DABoAxAW22XMAbIH2QeM4nhOju4D9AcCs\\\nQJ9sAJAA/9cGw88LcLTi4Pkb0gOO58ToLmABiwXwH0G+5s8A0hX0RQ84nqOautdgDwF4KsjX2ADE\\\nKOiLHnA8RxXwGWxwcBALFizA008/DQBwuVxYvHgxzGYz1q5di76+PmWdJIpWAQds//79yMzM9N7e\\\ntWsXtm/fjuvXr2P69Ok4dOiQkg4SRbOAAtbY2Iiqqips3rwZgOcX77Nnz6KoqAgAsH79epw4cUJd\\\nL1Xoh2eNRDA/3v8FQLea7kQ9jueoAgrYK6+8gr179+K++zxPb2trQ2xsLIxGzyVcUlISmpqa1PVS\\\nhTYAi4J8jQ3AXxX0RQ84nqPyG7CTJ08iPj4eubm5Ie2goqICeXl5yMvLC+n1wRqC57fMgA3/8Dke\\\nCfB5d/UAGAymDxrG8Zwgf+tZdu/eLSaTSVJTU2XWrFny8MMPy7PPPiszZ86U/v5+ERE5f/68FBYW\\\n+l0bgzCt64kNdg1SF0SG7jbxacP3DULEGPj2MiOwlonjqc31YEFt9csvv5SnnnpKRESKiork2LFj\\\nIiLy0ksvyYEDB/zvTKt/EIa77ew9fxA3fB4LYntTPmBROp4qhPxD8549e/DOO+/AbDajra0NmzZt\\\nCnVTkTc8xE8C+BufluPzGAWO4+mly/VgBgApAG4g/FNVcgD8DH3NY50q46kiCrqcKiUA/hvA3wO4\\\nE6Z9DgH4O3gmxuopXADHcyJ0eQbzpecaEpGg5/HkGSwEbwBoUbyP3wDshv7DBXA8g6X7yb774XnH\\\n3QDPer/J1g7AAeDfFGxbiziewdH9R8RhbwBYAuBvAcybhO3dAOCE59rkpUnYXrR5A/obTyVRUPLl\\\n/xiggd907IDcCPZ3nXtaAyAva+BYtND0NJ4qTJkzmK8FAGp8bs/E+ItwBZ6pdsP+GcC/K+hXtNLL\\\neKqIwpQM2L064anRMp5pmOyvi43QTlnN/kndWmTGc+IYMF1xQc3XBMHqgmeaBamIgu6/pieKJAaM\\\nSCEGjEghBoxIoYAC1tnZiaKiIsydOxeZmZm4cOEC2tvbYbPZkJ6eDpvNho6ODtV9JYo6AQXs5Zdf\\\nxooVK/DTTz/hxx9/RGZmJsrLy1FQUACn04mCggKUl5er7itR9PH3S3RnZ6fMnj1bhoaGRtxvsVjE\\\n7XaLiIjb7RaLxeL3V21o4Nd67TTXRCY/TGK7o4Gx0EZTwe8ZzOVyIS4uDi+++CIWLFiAzZs3o6ur\\\nCy0tLUhMTAQAJCQkoKVF9RxroujjN2ADAwO4cuUKtmzZgu+//x7Tpk373cdBg8Ew5o/I4a4qRaQp\\\n/k5xzc3Nkpqa6r399ddfy5NPPsmPiBNu/IiotaaC3zNYQkICkpOT8fPPPwMAzpw5g6ysLNjtdjgc\\\nDgCAw+HAypUr/W2KaMoJaC7iDz/8gM2bN6Ovrw9paWn4+OOPMTQ0hDVr1uCXX35BamoqPvnkE8yY\\\nMWP8nXEuog8XOBdRWwKIQtA42TdiGDCtUREFzuQgUogBI1KIASNSiAEjUogBI1KIASNSiAEjUogB\\\nI1KIASNSiAEjUogBI1KIASNSKKCAvfvuu8jOzkZOTg7WrVuHnp4euFwuLF68GGazGWvXrkVfX5/q\\\nvhJFHb8Ba2pqwvvvv4+6ujpcvXoVg4ODOH78OHbt2oXt27fj+vXrmD59Og4dOhSO/hJFlYDOYAMD\\\nA/jtt98wMDCA7u5uJCYm4uzZsygqKgIArF+/HidOnFDaUaJo5DdgJpMJr732GlJSUpCYmIiYmBjk\\\n5uYiNjYWRqPnH8hMSkpCU1OT8s4SRRu/Aevo6EBlZSVcLhfcbje6urpQXV0d8A5Y9IamMr//RvMX\\\nX3yBOXPmIC4uDgCwevVqfPfdd+js7MTAwACMRiMaGxthMplGfX1JSQlKSkoAcEUzTT1+z2ApKSm4\\\nePEiuru7ISLeojfLli3Dp59+CoBFb4jGFEjpqddff10yMjIkOztbnn/+eenp6ZH6+nrJz8+Xxx57\\\nTIqKiqSnp8fvdqCB0lzaaSzbprWmAoveRIwLLHqjLSqiwJkcRAoxYEQKMWBECjFgRAoxYEQKMWBE\\\nCjFgRAoxYEQKMWBECjFgRAoxYEQKMWBECjFgRAp5A7Zx40bEx8cjJyfH+2B7eztsNhvS09Nhs9nQ\\\n0dEBwDPreNu2bTCbzbBarbhy5Ur4e04UBbwB27Bhw+9KAZSXl6OgoABOpxMFBQUoLy8HAJw6dQpO\\\npxNOpxMVFRXYsmVLeHtNFC18F4e5XC7Jzs723rZYLOJ2u0VExO12i8ViERGRkpISOXr06KjPGw80\\\nsKhOO40LLrXWVBj3GqylpQWJiYkAgISEBLS0tADw1EpMTk72Po9VpYhG57fozTCDwRDSiuSKigpU\\\nVFQE/ToiPRj3DDZr1iw0NzcDAJqbmxEfHw/AUyuxoaHB+zx/VaXq6upQV1c3WX0mihrjBsxut8Ph\\\ncAAYWTnKbrfjyJEjEBFcvHgRMTEx3o+SRORj+GKsuLhYEhISxGg0islkkoMHD0pra6ssX75czGaz\\\nFBQUSFtbm4iIDA0NydatWyUtLU1ycnLk0qVLAV3wQQMXstpp/JJDa00FVpWKGBdYVUpbVEQh4C85\\\naLLdAXA70p0A0B3pDugaz2BEd6mIAuciEinEgBEpxIARKcSAESnEgBEpxIARKcSAESnEgBEpxIAR\\\nKcSAESnEgBEpNG5VqR07dmDu3LmwWq1YtWoVOjs7vY+VlZXBbDYjIyMDp0+fDm+viaLF8LqVc+fO\\\nyeXLl0cUvTl9+rT09/eLiMjOnTtl586dIiJy7do1sVqt0tPTIzdu3JC0tDQZGBjwuzYGGljzw8Y2\\\nVlPBewZbunQpZsyYAV+FhYUwGj0rWpYsWYLGxkYAQGVlJYqLi/Hggw9izpw5MJvNqK2tBRGNFPB6\\\nsI8++ghr164F4KkqtWTJEu9jUVVVavVq4N13I90LuteBA8DevZHuxaQLKGBvv/02jEYjnnvuuaB3\\\noLmqUtOmASkpke4F3SsmJtI9UMJvwA4fPoyTJ0/izJkz3gWTwVaVKikpAcAFlzT1jPs1fXV1Nfbu\\\n3YvPPvsMjzzyiPd+u92O48ePo7e3Fy6XC06nE4sWLVLeWaJo4z2DrVu3Dl999RVaW1uRlJSEN998\\\nE2VlZejt7YXNZgPg+aLjww8/RHZ2NtasWYOsrCwYjUYcOHAA999/f8QOgkirpl5Njj/+EThyJNK9\\\noHuVlgJ/+lNEu6AiCpzJQaQQA0ak0NSrizg0BPT1RboXdK/BwUj3QImpdw1GNAZegxFFGQaMSCEG\\\njEghBoxIIQaMSCEGjEghBoxIIQaMSCEGjEihcatKDdu3bx8MBgNaW1sBeH7x3rZtG8xmM6xWK65c\\\nuRK+HhNFEW/ANmzYgOrq6t89oaGhATU1NUjxWWZ/6tQpOJ1OOJ1OVFRUYMuWLeHpLVGUGbeqFABs\\\n374de/fuHTGPsLKyEi+88AIMBgOWLFmCzs5ONDc3h6fHRFFk3GuwyspKmEwmzJ8/f8T9TU1NSE5O\\\n9t6OqqpSRGE05nKV7u5ulJaWoqamZkI70FxVKaIwGjNg9fX1cLlc3rNXY2MjFi5ciNraWlaVIgqU\\\nb5lfl8s1onS2r9TUVLl165aIiJw8eVJWrFghQ0NDcuHCBcnPzw+ojDA0UB6ZjW2spoJ3q8XFxZKQ\\\nkCBGo1FMJpMcPHhwxBN9AzY0NCRbt26VtLQ0ycnJkUuXLgW2Mw0MIhvbWE0FrmgmuktFFDiTg0gh\\\nBoxIIQaMSCEGjEghBoxIobAWHp05cyamTZuGuLi4cO42bG7duqXbYwP0fXw3b95Ust2wfk0PAHl5\\\neairqwvnLsNGz8cG6P/4VOBHRCKFGDAihcIesOGJv3qk52MD9H98KoT9GoxoKuFHRCKFwhaw6upq\\\nZGRkwGw2o7y8PFy7VWr27NmYN28eHn/8ceTl5QEA2tvbYbPZkJ6eDpvNho6Ojgj3MnCjFT4a63iE\\\nhY8Co2SO/j0GBgYkLS1N6uvrpbe3V6xWq1y7di0cu1bKdwnPsB07dkhZWZmIiJSVlcnOnTsj0bWQ\\\nnDt3Ti5fvjxiTeBYx1NVVTViTeCiRYsi0metC0vAzp8/L4WFhd7bpaWlUlpaGo5dKzVawCwWi7jd\\\nbhERcbvdYrFYItG1kN276Has4ykpKZGjR4+O+jz6f2H5iKjXIjkGgwGFhYXIzc311h1paWlBYmIi\\\nACAhIQEtLS2R7OKEjXU8ev1/Otmm3r/RPIm+/fZbmEwm/Prrr7DZbJg7d+6Ixw0Gg64WmerteMIh\\\nLGewYIrkRJPhY4iPj8eqVatQW1uLWbNmeWtENjc3Iz4+PpJdnLCxjkev/08nW1gClp+fD6fTCZfL\\\nhb6+Phw/fhx2uz0cu1amq6sLt2/f9v53TU0NcnJyYLfb4XA4AAAOhwMrV66MZDcnbKzjsdvtOHLk\\\nCEQEFy9eRExMjPejJPkI18VeVVWVpKenS1pamrz11lvh2q0y9fX1YrVaxWq1SlZWlveYWltbZfny\\\n5WI2m6WgoEDa2toi3NPAjVb4aKzjCbXw0VTDmRxECnEmB5FCDBiRQgwYkUIMGJFCDBiRQgwYkUIM\\\nGJFCDBiRQgwYkUIMGJFCDBiRQv8HF4Cv+f7fl7kAAAAASUVORK5CYII=\\\n\"\n  frames[2] = \"data:image/png;base64,iVBORw0KGgoAAAANSUhEUgAAASAAAAEgCAYAAAAUg66AAAAABHNCSVQICAgIfAhkiAAAAAlwSFlz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\\\nEuFNW9bc0LcAAAAASUVORK5CYII=\\\n\"\n  frames[3] = \"data:image/png;base64,iVBORw0KGgoAAAANSUhEUgAAAWgAAAFoCAYAAAB65WHVAAAABHNCSVQICAgIfAhkiAAAAAlwSFlz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\\\n0JIUqf8PzdSCSqBHfrYAAAAASUVORK5CYII=\\\n\"\n  frames[4] = \"data:image/png;base64,iVBORw0KGgoAAAANSUhEUgAAAbAAAAGwCAYAAADITjAqAAAABHNCSVQICAgIfAhkiAAAAAlwSFlz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\\\n\"\n\n\n    /* set a timeout to make sure all the above elements are created before\n       the object is initialized. */\n    setTimeout(function() {\n        anim75778df642fd42c594a1a623dd9c55b0 = new Animation(frames, img_id, slider_id, 2000.0,\n                                 loop_select_id);\n    }, 0);\n  })()\n</script>\n",
                "text/plain": "<matplotlib.animation.FuncAnimation at 0x7f1f8f50de80>"
              }
            ],
            "_view_module": "@jupyter-widgets/output",
            "_model_module_version": "1.0.0",
            "_view_count": null,
            "_view_module_version": "1.0.0",
            "layout": "IPY_MODEL_ef6ed09d06054ce89ae73bc316023976",
            "_model_module": "@jupyter-widgets/output"
          }
        },
        "40a585e860644d349fdfbaa657cd24af": {
          "model_module": "@jupyter-widgets/controls",
          "model_name": "SliderStyleModel",
          "state": {
            "_view_name": "StyleView",
            "handle_color": null,
            "_model_name": "SliderStyleModel",
            "description_width": "",
            "_view_module": "@jupyter-widgets/base",
            "_model_module_version": "1.5.0",
            "_view_count": null,
            "_view_module_version": "1.2.0",
            "_model_module": "@jupyter-widgets/controls"
          }
        },
        "7fd0070f919a415196e92259c94284c8": {
          "model_module": "@jupyter-widgets/base",
          "model_name": "LayoutModel",
          "state": {
            "_view_name": "LayoutView",
            "grid_template_rows": null,
            "right": null,
            "justify_content": null,
            "_view_module": "@jupyter-widgets/base",
            "overflow": null,
            "_model_module_version": "1.2.0",
            "_view_count": null,
            "flex_flow": null,
            "width": null,
            "min_width": null,
            "border": null,
            "align_items": null,
            "bottom": null,
            "_model_module": "@jupyter-widgets/base",
            "top": null,
            "grid_column": null,
            "overflow_y": null,
            "overflow_x": null,
            "grid_auto_flow": null,
            "grid_area": null,
            "grid_template_columns": null,
            "flex": null,
            "_model_name": "LayoutModel",
            "justify_items": null,
            "grid_row": null,
            "max_height": null,
            "align_content": null,
            "visibility": null,
            "align_self": null,
            "height": null,
            "min_height": null,
            "padding": null,
            "grid_auto_rows": null,
            "grid_gap": null,
            "max_width": null,
            "order": null,
            "_view_module_version": "1.2.0",
            "grid_template_areas": null,
            "object_position": null,
            "object_fit": null,
            "grid_auto_columns": null,
            "margin": null,
            "display": null,
            "left": null
          }
        },
        "ef726d890e9e4733a18d16d3c884eedf": {
          "model_module": "@jupyter-widgets/controls",
          "model_name": "SliderStyleModel",
          "state": {
            "_view_name": "StyleView",
            "handle_color": null,
            "_model_name": "SliderStyleModel",
            "description_width": "",
            "_view_module": "@jupyter-widgets/base",
            "_model_module_version": "1.5.0",
            "_view_count": null,
            "_view_module_version": "1.2.0",
            "_model_module": "@jupyter-widgets/controls"
          }
        },
        "ee693bf59fee4b5bb385f0af79412e7f": {
          "model_module": "@jupyter-widgets/base",
          "model_name": "LayoutModel",
          "state": {
            "_view_name": "LayoutView",
            "grid_template_rows": null,
            "right": null,
            "justify_content": null,
            "_view_module": "@jupyter-widgets/base",
            "overflow": null,
            "_model_module_version": "1.2.0",
            "_view_count": null,
            "flex_flow": null,
            "width": null,
            "min_width": null,
            "border": null,
            "align_items": null,
            "bottom": null,
            "_model_module": "@jupyter-widgets/base",
            "top": null,
            "grid_column": null,
            "overflow_y": null,
            "overflow_x": null,
            "grid_auto_flow": null,
            "grid_area": null,
            "grid_template_columns": null,
            "flex": null,
            "_model_name": "LayoutModel",
            "justify_items": null,
            "grid_row": null,
            "max_height": null,
            "align_content": null,
            "visibility": null,
            "align_self": null,
            "height": null,
            "min_height": null,
            "padding": null,
            "grid_auto_rows": null,
            "grid_gap": null,
            "max_width": null,
            "order": null,
            "_view_module_version": "1.2.0",
            "grid_template_areas": null,
            "object_position": null,
            "object_fit": null,
            "grid_auto_columns": null,
            "margin": null,
            "display": null,
            "left": null
          }
        },
        "b07d491ac2ee43b29b7ebe5194b5a17b": {
          "model_module": "@jupyter-widgets/controls",
          "model_name": "DescriptionStyleModel",
          "state": {
            "_view_name": "StyleView",
            "_model_name": "DescriptionStyleModel",
            "description_width": "",
            "_view_module": "@jupyter-widgets/base",
            "_model_module_version": "1.5.0",
            "_view_count": null,
            "_view_module_version": "1.2.0",
            "_model_module": "@jupyter-widgets/controls"
          }
        },
        "3fc8dbb3a58c4d64ab5a251320545e58": {
          "model_module": "@jupyter-widgets/base",
          "model_name": "LayoutModel",
          "state": {
            "_view_name": "LayoutView",
            "grid_template_rows": null,
            "right": null,
            "justify_content": null,
            "_view_module": "@jupyter-widgets/base",
            "overflow": null,
            "_model_module_version": "1.2.0",
            "_view_count": null,
            "flex_flow": null,
            "width": null,
            "min_width": null,
            "border": null,
            "align_items": null,
            "bottom": null,
            "_model_module": "@jupyter-widgets/base",
            "top": null,
            "grid_column": null,
            "overflow_y": null,
            "overflow_x": null,
            "grid_auto_flow": null,
            "grid_area": null,
            "grid_template_columns": null,
            "flex": null,
            "_model_name": "LayoutModel",
            "justify_items": null,
            "grid_row": null,
            "max_height": null,
            "align_content": null,
            "visibility": null,
            "align_self": null,
            "height": null,
            "min_height": null,
            "padding": null,
            "grid_auto_rows": null,
            "grid_gap": null,
            "max_width": null,
            "order": null,
            "_view_module_version": "1.2.0",
            "grid_template_areas": null,
            "object_position": null,
            "object_fit": null,
            "grid_auto_columns": null,
            "margin": null,
            "display": null,
            "left": null
          }
        },
        "ef6ed09d06054ce89ae73bc316023976": {
          "model_module": "@jupyter-widgets/base",
          "model_name": "LayoutModel",
          "state": {
            "_view_name": "LayoutView",
            "grid_template_rows": null,
            "right": null,
            "justify_content": null,
            "_view_module": "@jupyter-widgets/base",
            "overflow": null,
            "_model_module_version": "1.2.0",
            "_view_count": null,
            "flex_flow": null,
            "width": null,
            "min_width": null,
            "border": null,
            "align_items": null,
            "bottom": null,
            "_model_module": "@jupyter-widgets/base",
            "top": null,
            "grid_column": null,
            "overflow_y": null,
            "overflow_x": null,
            "grid_auto_flow": null,
            "grid_area": null,
            "grid_template_columns": null,
            "flex": null,
            "_model_name": "LayoutModel",
            "justify_items": null,
            "grid_row": null,
            "max_height": null,
            "align_content": null,
            "visibility": null,
            "align_self": null,
            "height": null,
            "min_height": null,
            "padding": null,
            "grid_auto_rows": null,
            "grid_gap": null,
            "max_width": null,
            "order": null,
            "_view_module_version": "1.2.0",
            "grid_template_areas": null,
            "object_position": null,
            "object_fit": null,
            "grid_auto_columns": null,
            "margin": null,
            "display": null,
            "left": null
          }
        }
      }
    }
  },
  "cells": [
    {
      "cell_type": "markdown",
      "metadata": {
        "id": "view-in-github",
        "colab_type": "text"
      },
      "source": [
        "<a href=\"https://colab.research.google.com/github/danadler-dev/mesa_examples/blob/main/mesa_ff_potatohead.ipynb\" target=\"_parent\"><img src=\"https://colab.research.google.com/assets/colab-badge.svg\" alt=\"Open In Colab\"/></a>"
      ]
    },
    {
      "cell_type": "markdown",
      "metadata": {
        "id": "_Sny8gHl1IN8"
      },
      "source": [
        "An example of a model embedded in a grid - based on the [Mesa](https://mesa.readthedocs.io) Agent Based Modeling library. The idea behind this example is explained in my article: [Object-Oriented or Functional Morphogenetic Code:\n",
        "From The French Flag to Mr. Potato Head](https://colab.research.google.com/github/danadler-dev/OO-morpho-genetic-code/blob/main/FrenchFlagToMrPotatoHead.ipynb) found in this [github repo](https://github.com/danadler-dev/OO-morpho-genetic-code)."
      ]
    },
    {
      "cell_type": "code",
      "metadata": {
        "id": "vXxUef0MoUFP"
      },
      "source": [
        "!pip install mesa"
      ],
      "execution_count": null,
      "outputs": []
    },
    {
      "cell_type": "code",
      "metadata": {
        "id": "NxcwiEwPogGD"
      },
      "source": [
        "import numpy as np\n",
        "from mesa import Agent, Model\n",
        "from mesa.space import SingleGrid\n",
        "from mesa.time import RandomActivation\n",
        "import matplotlib.pyplot as plt\n",
        "from ipywidgets import interact, interact_manual, IntSlider\n",
        "from matplotlib import animation, rc\n",
        "from IPython.display import HTML\n",
        "import math"
      ],
      "execution_count": 20,
      "outputs": []
    },
    {
      "cell_type": "markdown",
      "metadata": {
        "id": "PfDlbiCGJJbE"
      },
      "source": [
        "The French Flag Mesa model (see example reference above). "
      ]
    },
    {
      "cell_type": "code",
      "metadata": {
        "id": "9MF8NUGR3xT0"
      },
      "source": [
        "def rect(top_left, bot_right, rgb):\n",
        "  return lambda x, y: rgb if top_left[0]<=x<=bot_right[0] and top_left[1]<=y<=bot_right[1] else np.zeros(3)\n",
        "\n",
        "class FF_Model(Model):\n",
        "  def step(self, N):\n",
        "    shapes = [\n",
        "      rect((0, 0), (N, N/3), [0,0,1]),\n",
        "      rect((0, N/3), (N, 2*N/3), [1,1,1]),\n",
        "      rect((0, 2*N/3), (N, N), [1,0,0])\n",
        "    ]\n",
        "    self.grid = SingleGrid(N, N, True)\n",
        "    self.schedule = RandomActivation(self)\n",
        "    for x in range(N):\n",
        "      for y in range(N):\n",
        "        a = Cell(self, (x,y), shapes)\n",
        "        self.grid.place_agent(a, (x, y))\n",
        "        self.schedule.add(a)\n",
        "    self.schedule.step()\n",
        "      \n",
        "class Cell(Agent):\n",
        "  def __init__(self, model, n, shapes):\n",
        "    super().__init__(n, model)\n",
        "    self.shapes = shapes\n",
        "    self.x, self.y = n\n",
        "    self.color = np.zeros(3)\n",
        "  def step(self):\n",
        "    self.color = sum([s(self.x,self.y) for s in self.shapes], self.color)"
      ],
      "execution_count": 26,
      "outputs": []
    },
    {
      "cell_type": "markdown",
      "metadata": {
        "id": "sp-o1HDaJW-S"
      },
      "source": [
        "The Mr. Potato Head Mesa model (see example reference above). Note that this uses the same Mesa Cell agent model as the French Flag example, further demonstrating that it's just the shape constraints (\"body plan\") that differ between the models."
      ]
    },
    {
      "cell_type": "code",
      "metadata": {
        "id": "gn2m6xaJ_d9L"
      },
      "source": [
        "def circle(center, radius, rgb):\n",
        "  return lambda x, y: rgb if (math.sqrt((center[0]-x)**2 + (center[1]-y)**2) <= radius) else np.zeros(3)\n",
        "\n",
        "def eye(center, eye_size, eye_color):\n",
        "  return lambda x, y: sum([circle(center, eye_size[0], eye_color[0])(x,y), circle(center, eye_size[1], eye_color[1])(x,y)], np.zeros(3))\n",
        "\n",
        "class MR_PH_Model(Model):\n",
        "  def step(self, N):\n",
        "    left_eye_center = (0.25*N,0.25*N) # x,y\n",
        "    right_eye_center = (0.25*N,0.75*N) # x,y\n",
        "    eye_size = (N/10, N/25) # radius outer, inner\n",
        "    eye_color = ([1,0,0], [0,1,0]) # rgb outer, inner\n",
        "    nose_tl = (0.35*N,0.4*N)\n",
        "    nose_br = (0.7*N,0.6*N)\n",
        "    mouth_tl = (0.8*N,0.2*N)\n",
        "    mouth_br = (0.85*N,0.8*N)\n",
        "    shapes = [\n",
        "      eye(left_eye_center, eye_size, eye_color),\n",
        "      eye(right_eye_center, eye_size, eye_color),\n",
        "      rect(nose_tl, nose_br, [0,0,1]),\n",
        "      rect(mouth_tl, mouth_br, [0,1,1])\n",
        "    ]\n",
        "    self.grid = SingleGrid(N, N, True)\n",
        "    self.schedule = RandomActivation(self)\n",
        "    for x in range(N):\n",
        "      for y in range(N):\n",
        "        a = Cell(self, (x,y), shapes)\n",
        "        self.grid.place_agent(a, (x, y))\n",
        "        self.schedule.add(a)\n",
        "    self.schedule.step()\n"
      ],
      "execution_count": 29,
      "outputs": []
    },
    {
      "cell_type": "markdown",
      "metadata": {
        "id": "3nb2JgtbJw5S"
      },
      "source": [
        "The interactive UI below allows you to choose the model and the min/max image sizes and it will simulate the shapes growing from min size to max size. A better model would actually do the work incrementally, but this is just a conceptual framework. Click the play button to start the animation."
      ]
    },
    {
      "cell_type": "code",
      "metadata": {
        "colab": {
          "base_uri": "https://localhost:8080/",
          "height": 337,
          "referenced_widgets": [
            "e20b4b7dfa974c6285ed317fd1c80b7e",
            "cf024a30b4264a199063a7048261974d",
            "dd56e0f3e83243438308a80dd51b1be9",
            "336375fdbbf741b29716d7564ba1cec8",
            "313a76800cf344209ae587e2a382fdf7",
            "c238c8378cf6433795660ac11f602a0c",
            "40a585e860644d349fdfbaa657cd24af",
            "7fd0070f919a415196e92259c94284c8",
            "ef726d890e9e4733a18d16d3c884eedf",
            "ee693bf59fee4b5bb385f0af79412e7f",
            "b07d491ac2ee43b29b7ebe5194b5a17b",
            "3fc8dbb3a58c4d64ab5a251320545e58",
            "ef6ed09d06054ce89ae73bc316023976"
          ]
        },
        "id": "HwHNaPDnPmg3",
        "outputId": "f9c80bf5-8eb7-4661-a720-e6ffd6520b1f"
      },
      "source": [
        "models = {'French Flag':FF_Model(), 'Mr. Potato Head':MR_PH_Model()}\n",
        "\n",
        "@interact(N1=(0, 500, 50), N2=(0, 500, 50), M=models.keys())\n",
        "def run(N1=100, N2=300, M='Mr. Potato Head'):\n",
        "  model = models[M]\n",
        "  stepsize = 50\n",
        "  fig, ax = plt.subplots(figsize=(N1/50, N1/50))\n",
        "\n",
        "  # animation function. This is called sequentially  \n",
        "  def animate(i):\n",
        "    n = N1+i*stepsize\n",
        "    model.step(n)\n",
        "    fig.set_size_inches(n/stepsize, n/stepsize)\n",
        "    im = np.zeros((n,n,3), dtype=float)\n",
        "    for agent, x, y in model.grid.coord_iter():\n",
        "      im[x,y] = agent.color\n",
        "    ax.imshow(im, aspect='auto')\n",
        "    return (fig,)\n",
        "    \n",
        "  anim = animation.FuncAnimation(fig, animate, frames=int((N2-N1)/stepsize)+1, interval=2000, blit=True)\n",
        "  plt.close()\n",
        "  rc('animation', html='jshtml')\n",
        "  return anim\n"
      ],
      "execution_count": 30,
      "outputs": [
        {
          "output_type": "display_data",
          "data": {
            "application/vnd.jupyter.widget-view+json": {
              "model_id": "e20b4b7dfa974c6285ed317fd1c80b7e",
              "version_minor": 0,
              "version_major": 2
            },
            "text/plain": [
              "interactive(children=(IntSlider(value=100, description='N1', max=500, step=50), IntSlider(value=300, descripti…"
            ]
          },
          "metadata": {
            "tags": []
          }
        }
      ]
    },
    {
      "cell_type": "code",
      "metadata": {
        "id": "PRSWupWZ6qTu"
      },
      "source": [
        ""
      ],
      "execution_count": 6,
      "outputs": []
    }
  ]
}